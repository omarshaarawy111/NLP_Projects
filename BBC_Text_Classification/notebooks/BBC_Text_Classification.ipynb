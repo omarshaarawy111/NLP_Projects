{
 "cells": [
  {
   "cell_type": "code",
   "execution_count": 109,
   "metadata": {},
   "outputs": [],
   "source": [
    "#--Vector models\n",
    "#We have an issue (ML repreenests by numbers and language represenets by text)\n",
    "#Convert language to numerical format\n",
    "#--Main definations\n",
    "#Text preprocessing\n",
    "#Count vectors\n",
    "#TFIDF\n",
    "#Word embedding\n",
    "#Sentence : sequence of words that starts with capitalize letter and ends with punctuation (period or quesiton mark) (? , .)\n",
    "#Token : can be words or sub units of words or even punctuation\n",
    "#We use term token rather than word\n",
    "#Letters and charcters\n",
    "#Punctuations are considered as charcters\n",
    "#NLP can be sometimes build on term of charcters\n",
    "#Vocabulary : the set of all words\n",
    "#Corpus : a large collection of writings of a specific kind or specific subject\n",
    "#collection of writings or recorded marks used for linguistic analysis\n",
    "#N-grams : unigram , bigrams , trigrams ---> we use it in word2vec and markov\n",
    "#--What is the vector ?\n",
    "#Vectors are how will represent text numerically , they are also foundatation of any ML techniques\n",
    "#Vectors are raw material of ML and data analysis\n",
    "#Mathematically vectors are quantity that has both magnitude and direction\n",
    "#vector is useful in contex with high diminsions\n",
    "#Vector is an array of scalers\n",
    "#Cartesian vs Polar coordinates\n",
    "#Both requires the same scaler component\n",
    "#Each component represents orthogonal axes \n",
    "#Don't think components as angels , think it as numbers\n",
    "#Why vectors are useful ?\n",
    "#Traditional programming vs ML\n",
    "#Vectors can make ML easy to apply rather than traditional programming so we have to vectorize text into numbers so ML can be applied (data driven automated decision making)\n",
    "#Examples : spam detection , organizing documents (clustering)\n",
    "#We want useful mapping and good fit line depends on verctors so vectors can be useful too\n",
    "#--Bags Of Words (bow)\n",
    "#It is NLP approach that doesnot consider the word ordering in the sentence\n",
    "#Order matters in the meaning of the word rather than losing information\n",
    "#Most vector models and classical machine learning models use bag of words\n",
    "#Probalistic models and DL donot use it\n",
    "#--Count Vecotrizer\n",
    "#It is bow method and simply called \"counting\"\n",
    "#Simple task : we want simple classification of biology and physics documents\n",
    "#What is document ? it is generic word and can be anything file or paper or even sentence depends on the contex of our task\n",
    "#Inputs vs Target , Independent vs dependent , predicators vs target , features vs target whatever ...\n",
    "#Let's consider vocabulary is unique words in our training corpus we can call it V\n",
    "#Each document converted into vector of size V ---> the vector components containt count of each word in V\n",
    "#There is no special order of the words inside each vector\n",
    "#To classify between docments types we do it based on vocabulary and each document hes more words related to which class\n",
    "#Practical issues : tokenization , how do we know which word corresponds to which position in our vector as long as the words are unordered ---> we need some kind of mapping \n",
    "#Remeber x_train is related to .fit_transform and x_test is related to .transform \n",
    "#Why scipy matrices instead of numpy matrices ? scipy contains sparse matrices , documents will be N and vocabulary will be V so the size cout data matrix is N x V (it is based on the concept of count vectorizer) , store non zero elements only so saving memory\n",
    "#Scipy sparse matrices speacial purpose to those documents which have number of zeros \n",
    "#Most of documents donot contain most of words\n",
    "#Vactor normalization : in our corpus may be we have long documents and short ones so we have to make them close\n",
    "#Long document means large count of words\n",
    "#We have 2 methods first is L2-norm 1 , second divide by sum\n",
    "#The first one is x/||x|| where ||x|| is  sqrt of each element sqaure of the all elements are the vocab means sqrt the the square of vector \n",
    "#The second one is x/all elements are the vocab means  the square of vector\n",
    "#The second one is not exactly the probabilty but more like rate of appearance in document or the probability of drawing the word if you picked random word from the document\n",
    "#we call the second one L1-norm 1 because it is the sqrt of L2-norm 1 (remeber regularization)\n",
    "#X is the word that supposed to be normalized\n",
    "#Sum of all elements are one in ||x|| it is like the total number of sample space in probability\n",
    "#TFIDF use normalization but count vercots are not\n",
    "#--Tokanization\n",
    "#Splitiing strings into words\n",
    "#.split()\n",
    "#You can do it by your self or by scikit-learn (Count verctorizer)\n",
    "#Punctuation is very important like difference between period and question mark (pros)\n",
    "#So depends on contex we can tokenize punctuation\n",
    "#Count Vectorizer ignore punctuation\n",
    "#To differentiate between period at the end and question mark at the end we need sufficient number of sentences so model can be trained enough on the contex\n",
    "#Punctuation increses diminsionality (cons)\n",
    "#Casing is important to make our model is case insensitive so we need to lower case upper cases string.lower_case() [CountVectorizer(lowercase=True)]\n",
    "#We need this kind of casing so our vocab doesnot get bigger and avoid high diminsionality\n",
    "#Accents We need this kind of casing so our vocab doesn't get bigger and avoid high diminsionality because words letters can be different but give the same meaning  [CountVectorizer(strip_accents=True)]\n",
    "#We can build charcter based model as well because vocab will be small (26 letters + punctuation)\n",
    "#The cons of using word based model is the high diminsionality of the large vocab (up to 1 million) so we need one million vector size and this is too much space complexity\n",
    "#This will corresponse to very large weight matrix\n",
    "#The pros that word contains lots of information unlike character based model\n",
    "#So we have two approches [word or char] both has pros and cons\n",
    "#There is third model (subword) it is between charcater based and word based\n",
    "#Subwords is useful about DL and Transformers\n",
    "#In subwords there is difference between \"walking\" and \"walk\" if we didnot split walking to walk + ing \n",
    "#We can only hope that model knows the difference between these 2 words through training\n",
    "#We need to do the same with walks walked etc... or we should connect them via shared representation\n",
    "#For both word based or charcater based , just change analyzer argument [CountVectorizer(analyzer=\"word\")] or [CountVectorizer(analyzer=\"char\")]\n",
    "#To create tokenization by your self for charc : for loop is better than .split()\n",
    "#There is 2 libararies specified at this kind of work (ntlk,nltk.tokenize.toktok)\n",
    "#To do tokenization we donot require ML just split string or use similar libraries for this\n",
    "#Exceptions in languages of tokens is the opposite of pattern in ML\n",
    "#--Stop words\n",
    "#It is very useful in grammatical context but it is not useful and donot have any inforamtion we need so we have to remove it in order to less redunanty and diminsionality\n",
    "#More diminsions means more diminsions , space and time \n",
    "#There is also distance consideration : means that we can't differentiate between documents if stopwords still exist also our understanding to feature vectors involve distance between each other\n",
    "#Documents will be more close to each other (similar) and this can harmful over shadowing the other counts of the important words\n",
    "#CountVecotrizer(stop_words=\"english\" or \"none\" or predefined_list for special stopwords)\n",
    "#There are also manual way we can do it through nltk converting string to list and remove stop words from it\n",
    "#--Stemming and lemmatization\n",
    "#reduce diminsionality and covert every word to its root\n",
    "#also reduce dissimialarity between the related words\n",
    "#NLP os useful of SEO tracking\n",
    "#Preprocessing step\n",
    "#Difference between stemming and leammtization\n",
    "#Stemming is very crude as stemming just chops off the end of the word , the result not necessarily the same word\n",
    "#Lemmatization is more sophisticated as it uses the real rules of the language , the true root must be returend\n",
    "#We call root \"Lemma\"\n",
    "#By applying this we reduce diminsionality so computing and space complexity will be reduced\n",
    "#Stemming is based on heuristic \n",
    "#There is multiple methods of stemming\n",
    "#Lemmatization is lookup table / table of ruels / dictionary / database of knowledge whatever ...\n",
    "#Be careful of leammatization of pos in your code (verbs etc...) (any thing except noun)\n",
    "#POS\n",
    "#It consists of (noun , verb , pronoun , adjective , adverb , article , preposition , conjunction , interjunction) know the difference in the below image\n",
    "#The state of dictionary sometimes has different with state of nltk\n",
    "#Remeber that lemmatizer wordnet done by nltk canot be compitable with pos tagging they are using pos differnet tages\n",
    "#The solution is limitized function map tag from one fomat to another\n",
    "#Apps of stem and lemma\n",
    "#DL is just lazy and bad approach and it is the replacement way of stem and lemm\n",
    "#Chatgpt , spam detection and sentiment analysis are not the only apps of NLP\n",
    "#SEO/document retrieval , social media tags , online ads\n",
    "#SEO not only retreive results based on word but applying NLP and convert word to its root can enhance search getting more related results\n",
    "#May queries change but the intent of the user is the same (we want things more easier to the user) make time complexity lower so users can be frustrated\n",
    "#Online ads is based on keywords (relevant terms user can add in search box)\n",
    "#Match your ads to search terms \n",
    "#Some times stemming helps us to remian distinct word as unneccessary not the same as neccesary\n",
    "#Stemming depends on pronouncution unlike Lemmatization depends on knowledge\n",
    "#Simple tokenization is s.split() , it is the simplest possible tokenizers\n",
    "#--Vector similarity\n",
    "#"
   ]
  },
  {
   "cell_type": "markdown",
   "metadata": {},
   "source": [
    "![Sample Image](image.png)\n"
   ]
  },
  {
   "cell_type": "code",
   "execution_count": 110,
   "metadata": {},
   "outputs": [
    {
     "name": "stdout",
     "output_type": "stream",
     "text": [
      "  (0, 1)\t1\n",
      "  (0, 2)\t1\n",
      "  (1, 0)\t2\n",
      "  (1, 1)\t1\n",
      "  (2, 2)\t3\n"
     ]
    }
   ],
   "source": [
    "#Scipy exercise\n",
    "import numpy as np\n",
    "#We use .sparse to acces the sparse matrices\n",
    "from scipy.sparse import csr_matrix\n",
    "#Create dense matrix for testing using numpy\n",
    "#Remeber matrix is list of lists\n",
    "dense_matrix = np.array([\n",
    "[0,1,1],\n",
    "[2,1,0],\n",
    "[0,0,3]\n",
    "])\n",
    "#Convert dense matrix to csr matrix\n",
    "sparse_matrix = csr_matrix(dense_matrix)\n",
    "print(sparse_matrix)"
   ]
  },
  {
   "cell_type": "code",
   "execution_count": 111,
   "metadata": {},
   "outputs": [
    {
     "name": "stdout",
     "output_type": "stream",
     "text": [
      "The number of words is :  10\n"
     ]
    }
   ],
   "source": [
    "#Exercise on counting number of words in string without using tokenization libraries (manual)\n",
    "#Using delimeter of space\n",
    "statement=input(\"Enter sentence : \")\n",
    "#split the statement into tokenz by space delimeter \"\" or \" \" --> it already generates list no need to add new list\n",
    "words=statement.split()\n",
    "#Count lenght of words\n",
    "print(\"The number of words is : \",len(words))"
   ]
  },
  {
   "cell_type": "code",
   "execution_count": 112,
   "metadata": {},
   "outputs": [
    {
     "name": "stdout",
     "output_type": "stream",
     "text": [
      "['Hi i am Omar.', 'I am very happy to start with this course.']\n",
      "['Hi', 'i', 'am', 'Omar', '.', 'I', 'am', 'very', 'happy', 'to', 'start', 'with', 'this', 'course', '.']\n",
      "Your number of words are :  15\n",
      "['Hi', 'i', 'am', 'Omar.', 'I', 'am', 'very', 'happy', 'to', 'start', 'with', 'this', 'course', '.']\n",
      "Your number of words are :  14\n",
      "['Hi', 'i', 'am', 'Omar', 'I', 'am', 'very', 'happy', 'to', 'start', 'with', 'this', 'course']\n",
      "Your number of words are :  13\n"
     ]
    },
    {
     "name": "stderr",
     "output_type": "stream",
     "text": [
      "[nltk_data] Downloading package punkt to\n",
      "[nltk_data]     C:\\Users\\hp\\AppData\\Roaming\\nltk_data...\n",
      "[nltk_data]   Package punkt is already up-to-date!\n"
     ]
    }
   ],
   "source": [
    "#Exercis on tokenization\n",
    "#desired library\n",
    "#nltk is more accurate as it counts the punctuaion stucked with words rather than ToktokTokenizer and for text blob it ignores the punctuations\n",
    "#nltk\n",
    "import nltk\n",
    "from textblob import TextBlob\n",
    "#download the tokenizers package\n",
    "#only need to do once\n",
    "nltk.download('punkt')\n",
    "#our data\n",
    "data=\"Hi i am Omar. I am very happy to start with this course.\"\n",
    "#extract sentences (lines) tokens ---> our delimetre is '.'\n",
    "tokens=nltk.sent_tokenize(data)\n",
    "print(tokens)\n",
    "#extract word tokens\n",
    "tokens=nltk.word_tokenize(data)\n",
    "print(tokens)\n",
    "#check count of word\n",
    "#we canot use it because tokens here is the list so we will use lenght instead\n",
    "print(\"Your number of words are : \",len(tokens))\n",
    "#desired libarary\n",
    "#toktoktokenizer\n",
    "from nltk.tokenize.toktok import ToktokTokenizer\n",
    "tokenizer=ToktokTokenizer()\n",
    "tokens=tokenizer.tokenize(data)\n",
    "print(tokens)\n",
    "print(\"Your number of words are : \",len(tokens))\n",
    "#desired library\n",
    "#text blob\n",
    "blob=TextBlob(data)\n",
    "tokens=blob.words\n",
    "print(tokens)\n",
    "print(\"Your number of words are : \",len(tokens))"
   ]
  },
  {
   "cell_type": "code",
   "execution_count": 113,
   "metadata": {},
   "outputs": [
    {
     "name": "stdout",
     "output_type": "stream",
     "text": [
      "Stop words in English :  ['i', 'me', 'my', 'myself', 'we', 'our', 'ours', 'ourselves', 'you', \"you're\", \"you've\", \"you'll\", \"you'd\", 'your', 'yours', 'yourself', 'yourselves', 'he', 'him', 'his', 'himself', 'she', \"she's\", 'her', 'hers', 'herself', 'it', \"it's\", 'its', 'itself', 'they', 'them', 'their', 'theirs', 'themselves', 'what', 'which', 'who', 'whom', 'this', 'that', \"that'll\", 'these', 'those', 'am', 'is', 'are', 'was', 'were', 'be', 'been', 'being', 'have', 'has', 'had', 'having', 'do', 'does', 'did', 'doing', 'a', 'an', 'the', 'and', 'but', 'if', 'or', 'because', 'as', 'until', 'while', 'of', 'at', 'by', 'for', 'with', 'about', 'against', 'between', 'into', 'through', 'during', 'before', 'after', 'above', 'below', 'to', 'from', 'up', 'down', 'in', 'out', 'on', 'off', 'over', 'under', 'again', 'further', 'then', 'once', 'here', 'there', 'when', 'where', 'why', 'how', 'all', 'any', 'both', 'each', 'few', 'more', 'most', 'other', 'some', 'such', 'no', 'nor', 'not', 'only', 'own', 'same', 'so', 'than', 'too', 'very', 's', 't', 'can', 'will', 'just', 'don', \"don't\", 'should', \"should've\", 'now', 'd', 'll', 'm', 'o', 're', 've', 'y', 'ain', 'aren', \"aren't\", 'couldn', \"couldn't\", 'didn', \"didn't\", 'doesn', \"doesn't\", 'hadn', \"hadn't\", 'hasn', \"hasn't\", 'haven', \"haven't\", 'isn', \"isn't\", 'ma', 'mightn', \"mightn't\", 'mustn', \"mustn't\", 'needn', \"needn't\", 'shan', \"shan't\", 'shouldn', \"shouldn't\", 'wasn', \"wasn't\", 'weren', \"weren't\", 'won', \"won't\", 'wouldn', \"wouldn't\"]\n",
      "Tokens before :  ['hi', 'i', 'am', 'omar', 'and', 'i', 'love', 'this', 'course', '.']\n",
      "Tokens after :  ['hi', 'am', 'omar', 'i', 'love', 'course', '.']\n",
      "Sentence :  hi am omar i love course .\n",
      "List of stop words :  ['i', 'and', 'this']\n"
     ]
    },
    {
     "name": "stderr",
     "output_type": "stream",
     "text": [
      "[nltk_data] Downloading package stopwords to\n",
      "[nltk_data]     C:\\Users\\hp\\AppData\\Roaming\\nltk_data...\n",
      "[nltk_data]   Package stopwords is already up-to-date!\n",
      "[nltk_data] Downloading package punkt to\n",
      "[nltk_data]     C:\\Users\\hp\\AppData\\Roaming\\nltk_data...\n",
      "[nltk_data]   Package punkt is already up-to-date!\n"
     ]
    }
   ],
   "source": [
    "#Exercise on removing stopwords with ntlk\n",
    "statement=input(\"Enter sentence : \")\n",
    "#desired libararies\n",
    "import nltk \n",
    "#first desired module\n",
    "from nltk.corpus import stopwords\n",
    "#download the stopwords package in your desired language\n",
    "#not all langauges exists\n",
    "nltk.download('stopwords')\n",
    "stopwords = stopwords.words('english')\n",
    "print('Stop words in English : ',stopwords)\n",
    "#second tokens\n",
    "import nltk\n",
    "nltk.download('punkt')\n",
    "#remeber tokens work with order \n",
    "#extract word tokens\n",
    "tokens=nltk.word_tokenize(statement)\n",
    "print('Tokens before : ',tokens)\n",
    "#loop on tokens to find out the stopwords and remove them\n",
    "stop_list=[]\n",
    "for i in tokens :\n",
    "    if i in stopwords:\n",
    "        stop_list.append(i)\n",
    "        tokens.remove(i)\n",
    "print('Tokens after : ',tokens)\n",
    "#convert list to string again so we can move forward\n",
    "statement = ' '.join(tokens)\n",
    "print('Sentence : ',statement)    \n",
    "print('List of stop words : ',stop_list)            "
   ]
  },
  {
   "cell_type": "code",
   "execution_count": 114,
   "metadata": {},
   "outputs": [
    {
     "name": "stdout",
     "output_type": "stream",
     "text": [
      "['i', 'me', 'my', 'myself', 'we', 'our', 'ours', 'ourselves', 'you', \"you're\", \"you've\", \"you'll\", \"you'd\", 'your', 'yours', 'yourself', 'yourselves', 'he', 'him', 'his', 'himself', 'she', \"she's\", 'her', 'hers', 'herself', 'it', \"it's\", 'its', 'itself', 'they', 'them', 'their', 'theirs', 'themselves', 'what', 'which', 'who', 'whom', 'this', 'that', \"that'll\", 'these', 'those', 'am', 'is', 'are', 'was', 'were', 'be', 'been', 'being', 'have', 'has', 'had', 'having', 'do', 'does', 'did', 'doing', 'a', 'an', 'the', 'and', 'but', 'if', 'or', 'because', 'as', 'until', 'while', 'of', 'at', 'by', 'for', 'with', 'about', 'against', 'between', 'into', 'through', 'during', 'before', 'after', 'above', 'below', 'to', 'from', 'up', 'down', 'in', 'out', 'on', 'off', 'over', 'under', 'again', 'further', 'then', 'once', 'here', 'there', 'when', 'where', 'why', 'how', 'all', 'any', 'both', 'each', 'few', 'more', 'most', 'other', 'some', 'such', 'no', 'nor', 'not', 'only', 'own', 'same', 'so', 'than', 'too', 'very', 's', 't', 'can', 'will', 'just', 'don', \"don't\", 'should', \"should've\", 'now', 'd', 'll', 'm', 'o', 're', 've', 'y', 'ain', 'aren', \"aren't\", 'couldn', \"couldn't\", 'didn', \"didn't\", 'doesn', \"doesn't\", 'hadn', \"hadn't\", 'hasn', \"hasn't\", 'haven', \"haven't\", 'isn', \"isn't\", 'ma', 'mightn', \"mightn't\", 'mustn', \"mustn't\", 'needn', \"needn't\", 'shan', \"shan't\", 'shouldn', \"shouldn't\", 'wasn', \"wasn't\", 'weren', \"weren't\", 'won', \"won't\", 'wouldn', \"wouldn't\"]\n",
      "Tokens before :  ['hi', 'i', 'am', 'omar', 'and', 'i', 'love', 'this', 'course', '.']\n",
      "Tokens after :  ['hi', 'am', 'omar', 'i', 'love', 'course', '.']\n",
      "Sentence :  hi am omar i love course .\n",
      "List of stop words :  ['i', 'and', 'this']\n"
     ]
    },
    {
     "name": "stderr",
     "output_type": "stream",
     "text": [
      "[nltk_data] Downloading package stopwords to\n",
      "[nltk_data]     C:\\Users\\hp\\AppData\\Roaming\\nltk_data...\n",
      "[nltk_data]   Package stopwords is already up-to-date!\n"
     ]
    }
   ],
   "source": [
    "#Exercise on removing stopwords with ToktokTokenizer\n",
    "statement=input(\"Enter sentence : \")\n",
    "#desired libararies\n",
    "import nltk \n",
    "#first desired module\n",
    "from nltk.corpus import stopwords\n",
    "#download the stopwords package in your desired language\n",
    "#not all langauges exists\n",
    "nltk.download('stopwords')\n",
    "stopwords = stopwords.words('english')\n",
    "print(stopwords)\n",
    "#second tokens\n",
    "from nltk.tokenize.toktok import ToktokTokenizer\n",
    "#create toktoktokenizer object\n",
    "tokenizer=ToktokTokenizer()\n",
    "#remeber tokens work with order and the difference between nltk and the other library only the consideration of the punctuation\n",
    "#extract word tokens\n",
    "tokens=tokenizer.tokenize(statement)\n",
    "print('Tokens before : ',tokens)\n",
    "#loop on tokens to find out the stopwords and remove them\n",
    "stop_list=[]\n",
    "for i in tokens :\n",
    "    if i in stopwords:\n",
    "        stop_list.append(i)\n",
    "        tokens.remove(i)\n",
    "print('Tokens after : ',tokens)\n",
    "#convert list to string again so we can move forward\n",
    "statement = ' '.join(tokens)\n",
    "print('Sentence : ',statement)    \n",
    "print('List of stop words : ',stop_list)            "
   ]
  },
  {
   "cell_type": "code",
   "execution_count": 115,
   "metadata": {},
   "outputs": [
    {
     "name": "stdout",
     "output_type": "stream",
     "text": [
      "['i', 'me', 'my', 'myself', 'we', 'our', 'ours', 'ourselves', 'you', \"you're\", \"you've\", \"you'll\", \"you'd\", 'your', 'yours', 'yourself', 'yourselves', 'he', 'him', 'his', 'himself', 'she', \"she's\", 'her', 'hers', 'herself', 'it', \"it's\", 'its', 'itself', 'they', 'them', 'their', 'theirs', 'themselves', 'what', 'which', 'who', 'whom', 'this', 'that', \"that'll\", 'these', 'those', 'am', 'is', 'are', 'was', 'were', 'be', 'been', 'being', 'have', 'has', 'had', 'having', 'do', 'does', 'did', 'doing', 'a', 'an', 'the', 'and', 'but', 'if', 'or', 'because', 'as', 'until', 'while', 'of', 'at', 'by', 'for', 'with', 'about', 'against', 'between', 'into', 'through', 'during', 'before', 'after', 'above', 'below', 'to', 'from', 'up', 'down', 'in', 'out', 'on', 'off', 'over', 'under', 'again', 'further', 'then', 'once', 'here', 'there', 'when', 'where', 'why', 'how', 'all', 'any', 'both', 'each', 'few', 'more', 'most', 'other', 'some', 'such', 'no', 'nor', 'not', 'only', 'own', 'same', 'so', 'than', 'too', 'very', 's', 't', 'can', 'will', 'just', 'don', \"don't\", 'should', \"should've\", 'now', 'd', 'll', 'm', 'o', 're', 've', 'y', 'ain', 'aren', \"aren't\", 'couldn', \"couldn't\", 'didn', \"didn't\", 'doesn', \"doesn't\", 'hadn', \"hadn't\", 'hasn', \"hasn't\", 'haven', \"haven't\", 'isn', \"isn't\", 'ma', 'mightn', \"mightn't\", 'mustn', \"mustn't\", 'needn', \"needn't\", 'shan', \"shan't\", 'shouldn', \"shouldn't\", 'wasn', \"wasn't\", 'weren', \"weren't\", 'won', \"won't\", 'wouldn', \"wouldn't\"]\n",
      "Tokens before :  ['hi', 'i', 'am', 'omar', 'and', 'i', 'love', 'this', 'course']\n",
      "Tokens after :  ['hi', 'am', 'omar', 'i', 'love', 'course']\n",
      "Sentence :  hi am omar i love course\n",
      "List of stop words :  ['i', 'and', 'this']\n"
     ]
    },
    {
     "name": "stderr",
     "output_type": "stream",
     "text": [
      "[nltk_data] Downloading package stopwords to\n",
      "[nltk_data]     C:\\Users\\hp\\AppData\\Roaming\\nltk_data...\n",
      "[nltk_data]   Package stopwords is already up-to-date!\n"
     ]
    }
   ],
   "source": [
    "#Exercise on removing stopwords with textblob\n",
    "statement=input(\"Enter sentence : \")\n",
    "#desired libararies\n",
    "import nltk \n",
    "#first desired module\n",
    "from nltk.corpus import stopwords\n",
    "#download the stopwords package in your desired language\n",
    "#not all langauges exists\n",
    "nltk.download('stopwords')\n",
    "stopwords = stopwords.words('english')\n",
    "print(stopwords)\n",
    "#second tokens\n",
    "from textblob import TextBlob\n",
    "#create textblob object\n",
    "blob=TextBlob(statement)\n",
    "#remeber tokens work with order and the difference between nltk and the other library only the consideration of the punctuation\n",
    "#extract word tokens\n",
    "tokens=blob.words\n",
    "print('Tokens before : ',tokens)\n",
    "#loop on tokens to find out the stopwords and remove them\n",
    "stop_list=[]\n",
    "for i in tokens :\n",
    "    if i in stopwords:\n",
    "        stop_list.append(i)\n",
    "        tokens.remove(i)\n",
    "print('Tokens after : ',tokens)\n",
    "#convert list to string again so we can move forward\n",
    "statement = ' '.join(tokens)\n",
    "print('Sentence : ',statement)    \n",
    "print('List of stop words : ',stop_list)            "
   ]
  },
  {
   "cell_type": "code",
   "execution_count": 116,
   "metadata": {},
   "outputs": [
    {
     "name": "stdout",
     "output_type": "stream",
     "text": [
      "play  :  play\n",
      "plays  :  play\n",
      "dogs  :  dog\n",
      "children  :  children\n",
      "better  :  better\n",
      "was  :  wa\n"
     ]
    }
   ],
   "source": [
    "#Exercise on stemming \n",
    "#desired library\n",
    "#import stemming class from ntlk\n",
    "from nltk.stem import PorterStemmer\n",
    "#create stemmer object (instance)\n",
    "ps = PorterStemmer()\n",
    "#list of words need to be stemmed\n",
    "words=['play','plays','dogs','children','better','was']\n",
    "#remeber that stemmer can fail to get the actual root of the word\n",
    "#stemming is very crude as stemming just chops off the end of the word , the result not necessarily the same word\n",
    "for i in words :\n",
    "  print (i , \" : \",ps.stem(i))"
   ]
  },
  {
   "cell_type": "code",
   "execution_count": 117,
   "metadata": {},
   "outputs": [
    {
     "name": "stdout",
     "output_type": "stream",
     "text": [
      "play  :  play\n",
      "plays  :  play\n",
      "dogs  :  dog\n",
      "children  :  child\n",
      "better  :  better\n",
      "was  :  wa\n",
      "going :  go\n",
      "going :  going\n",
      "the correct better :  well\n",
      "was :  be\n",
      "\n",
      "Corrected tags in ntlk :  [('better', 'RBR'), ('was', 'VBD')]\n",
      "Corrected tags in text blob :  [('better', 'RBR'), ('was', 'VBD')]\n",
      "\n",
      "Lemmatize after nltk pos : \n",
      "\n",
      "better :  well\n",
      "was :  be\n",
      "----------------------------------------------------------------------------------------------------\n",
      "\n",
      "Lemmatize after textblob pos : \n",
      "\n",
      "better :  well\n",
      "was :  be\n"
     ]
    },
    {
     "name": "stderr",
     "output_type": "stream",
     "text": [
      "[nltk_data] Downloading package wordnet to\n",
      "[nltk_data]     C:\\Users\\hp\\AppData\\Roaming\\nltk_data...\n",
      "[nltk_data]   Package wordnet is already up-to-date!\n"
     ]
    }
   ],
   "source": [
    "#Exercise on lemmatization\n",
    "#desired library\n",
    "#import lemmatization class from ntlk\n",
    "from nltk.stem import WordNetLemmatizer\n",
    "#download the knowlegde databse for lemmatization\n",
    "#only need to do once\n",
    "#don't forget to import wordnet module\n",
    "from nltk.corpus import wordnet\n",
    "nltk.download('wordnet')\n",
    "#create lemmatizer object (instance)\n",
    "lemm = WordNetLemmatizer()\n",
    "#list of words need to be stemmed\n",
    "words=['play','plays','dogs','children','better','was']\n",
    "#remeber that lemmatizer can  get the actual root of the word\n",
    "#Lemmatization is more sophisticated as it uses the real rules of the language , the true root must be returend\n",
    "for i in words :\n",
    "  print (i , \" : \",lemm.lemmatize(i))\n",
    "#we can add more argument to lemmatize called pos (part of speech) to get the true root of words with verbs  etc... (any thing except noun)\n",
    "#for verbs we can wordnet.VERB\n",
    "print('going : ',lemm.lemmatize('going',pos=wordnet.VERB))\n",
    "#going can be noun but when the root is go it canot be noun anymore we can control this by pos argument we havenot to write it so it can return as noun\n",
    "print('going : ',lemm.lemmatize('going'))\n",
    "#this words is considered as noun in ntlk\n",
    "#if you get wring answers in lemmatization the probelm is you didnot specify the pos of the word correctly and it is treated by default as name \n",
    "print('the correct better : ',lemm.lemmatize('better',pos=wordnet.ADV))\n",
    "print('was : ',lemm.lemmatize('was',pos=wordnet.VERB))\n",
    "\n",
    "#To make it automatically we need some kind of mapping function to decode pos tagging into pos argument wordnet \n",
    "#first know the tagging\n",
    "print()\n",
    "corrected=['better','was']\n",
    "\n",
    "#with nltk\n",
    "pos_tags=[]\n",
    "for token in corrected :\n",
    "  #nltk pos tags input must be list or string\n",
    "  pos_tags.append((nltk.pos_tag([token])[0][0],nltk.pos_tag([token])[0][1]))\n",
    "print('Corrected tags in ntlk : ',pos_tags)\n",
    "\n",
    "#with text blob\n",
    "#first convert list into string\n",
    "pos_tags_blob=[]\n",
    "for token in corrected :\n",
    "  pos_tags_blob.append((TextBlob(token).tags[0][0],TextBlob(token).tags[0][1]))\n",
    "print('Corrected tags in text blob : ',pos_tags_blob)\n",
    "\n",
    "#second apply mapping function\n",
    "pos_map = {\n",
    "    'NN': wordnet.NOUN,\n",
    "    'VB': wordnet.VERB,\n",
    "    'JJ': wordnet.ADJ,\n",
    "    'RB': wordnet.ADV,\n",
    "    'DT': wordnet.NOUN\n",
    "}\n",
    "def convert_pos_tag(pos_tag):\n",
    "    #we decode depends on the first two letters\n",
    "    #we use .get because it is dictionary\n",
    "    #wordnet.NOUN is just in exceot case we donot find any case\n",
    "    return pos_map.get(pos_tag[:2],wordnet.NOUN)\n",
    "\n",
    "print()\n",
    "    \n",
    "#loop and get the pos decoding\n",
    "#in ntlk pos\n",
    "print('Lemmatize after nltk pos : ')\n",
    "print()\n",
    "for tup in pos_tags :\n",
    "  print(f'{tup[0]} : ',lemm.lemmatize(f'{tup[0]}',pos=convert_pos_tag(tup[1])))\n",
    "\n",
    "print('-'*100)\n",
    "\n",
    "#in textblob pos\n",
    "print()\n",
    "print('Lemmatize after textblob pos : ')\n",
    "print()\n",
    "for tup in pos_tags_blob : \n",
    "  print(f'{tup[0]} : ',lemm.lemmatize(f'{tup[0]}',pos=convert_pos_tag(tup[1])))\n",
    "\n",
    "#the context make pos different , donot pass list of words to any pos wether it is nltk or text blob because first it sees it as sentence and as we know the first word of the sentece calssified as NN (noun)"
   ]
  },
  {
   "cell_type": "code",
   "execution_count": 118,
   "metadata": {},
   "outputs": [
    {
     "name": "stdout",
     "output_type": "stream",
     "text": [
      "Tokens :  ['Hi', 'i', 'am', 'Omar', '.', 'I', 'am', 'very', 'happy', 'to', 'start', 'with', 'this', 'course', '.']\n",
      "Tags :  [('Hi', 'NNP'), ('i', 'NN'), ('am', 'VBP'), ('Omar', 'NNP'), ('.', '.'), ('I', 'PRP'), ('am', 'VBP'), ('very', 'RB'), ('happy', 'JJ'), ('to', 'TO'), ('start', 'VB'), ('with', 'IN'), ('this', 'DT'), ('course', 'NN'), ('.', '.')]\n",
      "Updated tags of each word :\n",
      " [('Hi', 'NNP'), ('i', 'NN'), ('Omar', 'NNP'), ('.', '.'), ('I', 'PRP'), ('very', 'RB'), ('happy', 'JJ'), ('to', 'TO'), ('start', 'VB'), ('with', 'IN'), ('this', 'DT'), ('course', 'NN'), ('.', '.')]\n",
      "Updated string : \n",
      " Hi i Omar . I very happy to start with this course .\n"
     ]
    }
   ],
   "source": [
    "#Exrecise on POS tagging with ntlk\n",
    "#first make tokenization so we can define pos for each token\n",
    "#we can choose between nltk or totoktokenizer or textblob \n",
    "#desired library\n",
    "#nltk is more accurate as it counts the punctuaion stucked with words rather than ToktokTokenizer and for text blob it ignores the punctuations\n",
    "#nltk\n",
    "import nltk\n",
    "#our data\n",
    "data=\"Hi i am Omar. I am very happy to start with this course.\"\n",
    "#extract word tokens\n",
    "tokens=nltk.word_tokenize(data)\n",
    "print('Tokens : ',tokens)\n",
    "#second we do pos tagging\n",
    "pos_tags = nltk.pos_tag(tokens)\n",
    "print('Tags : ',pos_tags)\n",
    "#it is useful when we are searching on special tag\n",
    "#we want to remove NN and update tags\n",
    "#noted that tags is list of tuples so i have to create the same structure for the new structure\n",
    "#remember when i choose NN for example to be removed it selects the sub tags of NN also like VBP\n",
    "pos_tags_update=[]\n",
    "for tup in pos_tags :\n",
    "  if 'VBP' not in tup[1]:\n",
    "    pos_tags_update.append(tup)\n",
    "print('Updated tags of each word :\\n',pos_tags_update)\n",
    "#convert this list of tuples to string again\n",
    "#join ' ' for letters because you make spaces in joined word and join '' for words\n",
    "string=\"\"\n",
    "for tup in pos_tags_update:\n",
    "  #zero case when string is empty we donot need previous white space\n",
    "  if string == \"\" :\n",
    "    #tup[0] is the word and tup[1] is the tag\n",
    "    string=string+''.join(tup[0])\n",
    "  else :\n",
    "    #we need old string and spaces between previous word then the new word\n",
    "    string=string+' '+''.join(tup[0])\n",
    "print('Updated string : \\n',string)"
   ]
  },
  {
   "cell_type": "code",
   "execution_count": 119,
   "metadata": {},
   "outputs": [
    {
     "name": "stdout",
     "output_type": "stream",
     "text": [
      "Tokens :  Hi i am Omar. I am very happy to start with this course.\n",
      "Tags :  [('Hi', 'NNP'), ('i', 'NN'), ('am', 'VBP'), ('Omar', 'NNP'), ('I', 'PRP'), ('am', 'VBP'), ('very', 'RB'), ('happy', 'JJ'), ('to', 'TO'), ('start', 'VB'), ('with', 'IN'), ('this', 'DT'), ('course', 'NN')]\n",
      "Updated tags of each word :\n",
      " [('Hi', 'NNP'), ('i', 'NN'), ('Omar', 'NNP'), ('I', 'PRP'), ('very', 'RB'), ('happy', 'JJ'), ('to', 'TO'), ('start', 'VB'), ('with', 'IN'), ('this', 'DT'), ('course', 'NN')]\n",
      "Updated string : \n",
      " Hi i Omar I very happy to start with this course\n"
     ]
    }
   ],
   "source": [
    "#Exrecise on POS tagging with textblob\n",
    "#the same concept and process the only difference is the libraries\n",
    "#first make tokenization so we can define pos for each token\n",
    "#we can choose between nltk or totoktokenizer or textblob \n",
    "#desired library\n",
    "from textblob import TextBlob\n",
    "#our data\n",
    "data=\"Hi i am Omar. I am very happy to start with this course.\"\n",
    "#extract word tokens\n",
    "tokens=TextBlob(data)\n",
    "print('Tokens : ',tokens)\n",
    "#second we do pos tagging\n",
    "pos_tags = tokens.tags\n",
    "print('Tags : ',pos_tags)\n",
    "#it is useful when we are searching on special tag\n",
    "#we want to remove NN and update tags\n",
    "#noted that tags is list of tuples so i have to create the same structure for the new structure\n",
    "#remember when i choose NN for example to be removed it selects the sub tags of NN also like VBP\n",
    "pos_tags_update=[]\n",
    "for tup in pos_tags :\n",
    "  if 'VBP' not in tup[1]:\n",
    "    pos_tags_update.append(tup)\n",
    "print('Updated tags of each word :\\n',pos_tags_update)\n",
    "#convert this list of tuples to string again\n",
    "#join ' ' for letters because you make spaces in joined word and join '' for words\n",
    "string=\"\"\n",
    "for tup in pos_tags_update:\n",
    "  #zero case when string is empty we donot need previous white space\n",
    "  if string == \"\" :\n",
    "    #tup[0] is the word and tup[1] is the tag\n",
    "    string=string+''.join(tup[0])\n",
    "  else :\n",
    "    #we need old string and spaces between previous word then the new word\n",
    "    string=string+' '+''.join(tup[0])\n",
    "print('Updated string : \\n',string)"
   ]
  },
  {
   "cell_type": "code",
   "execution_count": 120,
   "metadata": {},
   "outputs": [
    {
     "name": "stderr",
     "output_type": "stream",
     "text": [
      "[nltk_data] Downloading package averaged_perceptron_tagger to\n",
      "[nltk_data]     C:\\Users\\hp\\AppData\\Roaming\\nltk_data...\n",
      "[nltk_data]   Package averaged_perceptron_tagger is already up-to-\n",
      "[nltk_data]       date!\n"
     ]
    },
    {
     "data": {
      "text/plain": [
       "True"
      ]
     },
     "execution_count": 120,
     "metadata": {},
     "output_type": "execute_result"
    }
   ],
   "source": [
    "#Project 1 ---> Document classification through Count Vectorizer\n",
    "#It is process of whole machine learning ---> we will use count vectorizer to feature extract the text encoding each document into numbers and then we wil perform prediction using naive bayes (multi nominal)\n",
    "#desired libraries\n",
    "#basic numerical computing libraries\n",
    "import numpy as np\n",
    "import pandas as pd\n",
    "from sklearn.feature_extraction.text import CountVectorizer\n",
    "from sklearn.naive_bayes import MultinomialNB\n",
    "from sklearn.model_selection import train_test_split\n",
    "import nltk\n",
    "#not necessary to download packages as we did it once before\n",
    "#tokenization\n",
    "from nltk import word_tokenize\n",
    "#stemming and lemmatization\n",
    "from nltk.stem import PorterStemmer,WordNetLemmatizer\n",
    "#POS tagging\n",
    "from nltk.corpus import wordnet\n",
    "#download (POS) tagger based on the averaged perceptron algorithm package\n",
    "nltk.download('averaged_perceptron_tagger')\n"
   ]
  },
  {
   "cell_type": "markdown",
   "metadata": {},
   "source": [
    "**BBC Text Classification**"
   ]
  },
  {
   "cell_type": "code",
   "execution_count": 121,
   "metadata": {},
   "outputs": [
    {
     "data": {
      "text/html": [
       "<div>\n",
       "<style scoped>\n",
       "    .dataframe tbody tr th:only-of-type {\n",
       "        vertical-align: middle;\n",
       "    }\n",
       "\n",
       "    .dataframe tbody tr th {\n",
       "        vertical-align: top;\n",
       "    }\n",
       "\n",
       "    .dataframe thead th {\n",
       "        text-align: right;\n",
       "    }\n",
       "</style>\n",
       "<table border=\"1\" class=\"dataframe\">\n",
       "  <thead>\n",
       "    <tr style=\"text-align: right;\">\n",
       "      <th></th>\n",
       "      <th>text</th>\n",
       "      <th>labels</th>\n",
       "    </tr>\n",
       "  </thead>\n",
       "  <tbody>\n",
       "    <tr>\n",
       "      <th>1160</th>\n",
       "      <td>Tories unveil quango blitz plans\\n\\nPlans to a...</td>\n",
       "      <td>politics</td>\n",
       "    </tr>\n",
       "    <tr>\n",
       "      <th>44</th>\n",
       "      <td>US crude prices surge above $53\\n\\nUS crude pr...</td>\n",
       "      <td>business</td>\n",
       "    </tr>\n",
       "    <tr>\n",
       "      <th>1616</th>\n",
       "      <td>Double injury blow strikes Wales\\n\\nWales cent...</td>\n",
       "      <td>sport</td>\n",
       "    </tr>\n",
       "    <tr>\n",
       "      <th>714</th>\n",
       "      <td>Wife Swap makers sue US 'copycat'\\n\\nThe Briti...</td>\n",
       "      <td>entertainment</td>\n",
       "    </tr>\n",
       "    <tr>\n",
       "      <th>1803</th>\n",
       "      <td>Nadal puts Spain 2-0 up\\n\\nResult: Nadal 6-7 (...</td>\n",
       "      <td>sport</td>\n",
       "    </tr>\n",
       "  </tbody>\n",
       "</table>\n",
       "</div>"
      ],
      "text/plain": [
       "                                                   text         labels\n",
       "1160  Tories unveil quango blitz plans\\n\\nPlans to a...       politics\n",
       "44    US crude prices surge above $53\\n\\nUS crude pr...       business\n",
       "1616  Double injury blow strikes Wales\\n\\nWales cent...          sport\n",
       "714   Wife Swap makers sue US 'copycat'\\n\\nThe Briti...  entertainment\n",
       "1803  Nadal puts Spain 2-0 up\\n\\nResult: Nadal 6-7 (...          sport"
      ]
     },
     "execution_count": 121,
     "metadata": {},
     "output_type": "execute_result"
    }
   ],
   "source": [
    "#import data\n",
    "#better download it as csv from the lazy programmer website and import it locally\n",
    "raw_data = pd.read_csv('bbc_text_cls.csv')\n",
    "df = raw_data.copy()\n",
    "df.sample(5)"
   ]
  },
  {
   "cell_type": "code",
   "execution_count": 122,
   "metadata": {},
   "outputs": [
    {
     "data": {
      "text/plain": [
       "(2225, 2)"
      ]
     },
     "execution_count": 122,
     "metadata": {},
     "output_type": "execute_result"
    }
   ],
   "source": [
    "#cleansing\n",
    "#investing\n",
    "df.shape"
   ]
  },
  {
   "cell_type": "code",
   "execution_count": 123,
   "metadata": {},
   "outputs": [
    {
     "data": {
      "text/html": [
       "<div>\n",
       "<style scoped>\n",
       "    .dataframe tbody tr th:only-of-type {\n",
       "        vertical-align: middle;\n",
       "    }\n",
       "\n",
       "    .dataframe tbody tr th {\n",
       "        vertical-align: top;\n",
       "    }\n",
       "\n",
       "    .dataframe thead th {\n",
       "        text-align: right;\n",
       "    }\n",
       "</style>\n",
       "<table border=\"1\" class=\"dataframe\">\n",
       "  <thead>\n",
       "    <tr style=\"text-align: right;\">\n",
       "      <th></th>\n",
       "      <th>count</th>\n",
       "      <th>unique</th>\n",
       "      <th>top</th>\n",
       "      <th>freq</th>\n",
       "    </tr>\n",
       "  </thead>\n",
       "  <tbody>\n",
       "    <tr>\n",
       "      <th>text</th>\n",
       "      <td>2225</td>\n",
       "      <td>2127</td>\n",
       "      <td>Ray DVD beats box office takings\\n\\nOscar-nomi...</td>\n",
       "      <td>2</td>\n",
       "    </tr>\n",
       "    <tr>\n",
       "      <th>labels</th>\n",
       "      <td>2225</td>\n",
       "      <td>5</td>\n",
       "      <td>sport</td>\n",
       "      <td>511</td>\n",
       "    </tr>\n",
       "  </tbody>\n",
       "</table>\n",
       "</div>"
      ],
      "text/plain": [
       "       count unique                                                top freq\n",
       "text    2225   2127  Ray DVD beats box office takings\\n\\nOscar-nomi...    2\n",
       "labels  2225      5                                              sport  511"
      ]
     },
     "execution_count": 123,
     "metadata": {},
     "output_type": "execute_result"
    }
   ],
   "source": [
    "df.describe().T"
   ]
  },
  {
   "cell_type": "code",
   "execution_count": 124,
   "metadata": {},
   "outputs": [
    {
     "data": {
      "text/plain": [
       "text      object\n",
       "labels    object\n",
       "dtype: object"
      ]
     },
     "execution_count": 124,
     "metadata": {},
     "output_type": "execute_result"
    }
   ],
   "source": [
    "df.dtypes"
   ]
  },
  {
   "cell_type": "code",
   "execution_count": 125,
   "metadata": {},
   "outputs": [
    {
     "name": "stdout",
     "output_type": "stream",
     "text": [
      "<class 'pandas.core.frame.DataFrame'>\n",
      "RangeIndex: 2225 entries, 0 to 2224\n",
      "Data columns (total 2 columns):\n",
      " #   Column  Non-Null Count  Dtype \n",
      "---  ------  --------------  ----- \n",
      " 0   text    2225 non-null   object\n",
      " 1   labels  2225 non-null   object\n",
      "dtypes: object(2)\n",
      "memory usage: 34.9+ KB\n"
     ]
    }
   ],
   "source": [
    "df.info()"
   ]
  },
  {
   "cell_type": "code",
   "execution_count": 126,
   "metadata": {},
   "outputs": [
    {
     "data": {
      "text/plain": [
       "98"
      ]
     },
     "execution_count": 126,
     "metadata": {},
     "output_type": "execute_result"
    }
   ],
   "source": [
    "#check duplicates\n",
    "df.duplicated().sum()"
   ]
  },
  {
   "cell_type": "code",
   "execution_count": 127,
   "metadata": {},
   "outputs": [],
   "source": [
    "#remove duplicates\n",
    "df.drop_duplicates(inplace=True)\n",
    "#reset index\n",
    "#we use drop = true so that we drop index column after reseting\n",
    "df.reset_index(drop=True, inplace=True)"
   ]
  },
  {
   "cell_type": "code",
   "execution_count": 128,
   "metadata": {},
   "outputs": [
    {
     "name": "stdout",
     "output_type": "stream",
     "text": [
      "<class 'pandas.core.frame.DataFrame'>\n",
      "RangeIndex: 2127 entries, 0 to 2126\n",
      "Data columns (total 2 columns):\n",
      " #   Column  Non-Null Count  Dtype \n",
      "---  ------  --------------  ----- \n",
      " 0   text    2127 non-null   object\n",
      " 1   labels  2127 non-null   object\n",
      "dtypes: object(2)\n",
      "memory usage: 33.4+ KB\n"
     ]
    }
   ],
   "source": [
    "#investing agian\n",
    "#.info() is more generalize\n",
    "df.info()"
   ]
  },
  {
   "cell_type": "code",
   "execution_count": 129,
   "metadata": {},
   "outputs": [
    {
     "data": {
      "text/plain": [
       "text      0\n",
       "labels    0\n",
       "dtype: int64"
      ]
     },
     "execution_count": 129,
     "metadata": {},
     "output_type": "execute_result"
    }
   ],
   "source": [
    "#check missing value\n",
    "#there is no missing value\n",
    "df.isna().sum()"
   ]
  },
  {
   "cell_type": "code",
   "execution_count": 130,
   "metadata": {},
   "outputs": [
    {
     "data": {
      "text/plain": [
       "Index(['text', 'labels'], dtype='object')"
      ]
     },
     "execution_count": 130,
     "metadata": {},
     "output_type": "execute_result"
    }
   ],
   "source": [
    "#check columns\n",
    "#rename columns\n",
    "df.columns=df.columns.str.lower().str.strip().str.replace(\" \",\"_\")\n",
    "df.columns"
   ]
  },
  {
   "cell_type": "code",
   "execution_count": 131,
   "metadata": {},
   "outputs": [
    {
     "name": "stdout",
     "output_type": "stream",
     "text": [
      "for text : \n",
      " text\n",
      "Ad sales boost Time Warner profit\\n\\nQuarterly profits at US media giant TimeWarner jumped 76% to $1.13bn (£600m) for the three months to December, from $639m year-earlier.\\n\\nThe firm, which is now one of the biggest investors in Google, benefited from sales of high-speed internet connections and higher advert sales. TimeWarner said fourth quarter sales rose 2% to $11.1bn from $10.9bn. Its profits were buoyed by one-off gains which offset a profit dip at Warner Bros, and less users for AOL.\\n\\nTime Warner said on Friday that it now owns 8% of search-engine Google. But its own internet business, AOL, had has mixed fortunes. It lost 464,000 subscribers in the fourth quarter profits were lower than in the preceding three quarters. However, the company said AOL's underlying profit before exceptional items rose 8% on the back of stronger internet advertising revenues. It hopes to increase subscribers by offering the online service free to TimeWarner internet customers and will try to sign up AOL's existing customers for high-speed broadband. TimeWarner also has to restate 2000 and 2003 results following a probe by the US Securities Exchange Commission (SEC), which is close to concluding.\\n\\nTime Warner's fourth quarter profits were slightly better than analysts' expectations. But its film division saw profits slump 27% to $284m, helped by box-office flops Alexander and Catwoman, a sharp contrast to year-earlier, when the third and final film in the Lord of the Rings trilogy boosted results. For the full-year, TimeWarner posted a profit of $3.36bn, up 27% from its 2003 performance, while revenues grew 6.4% to $42.09bn. \"Our financial performance was strong, meeting or exceeding all of our full-year objectives and greatly enhancing our flexibility,\" chairman and chief executive Richard Parsons said. For 2005, TimeWarner is projecting operating earnings growth of around 5%, and also expects higher revenue and wider profit margins.\\n\\nTimeWarner is to restate its accounts as part of efforts to resolve an inquiry into AOL by US market regulators. It has already offered to pay $300m to settle charges, in a deal that is under review by the SEC. The company said it was unable to estimate the amount it needed to set aside for legal reserves, which it previously set at $500m. It intends to adjust the way it accounts for a deal with German music publisher Bertelsmann's purchase of a stake in AOL Europe, which it had reported as advertising revenue. It will now book the sale of its stake in AOL Europe as a loss on the value of that stake.                                                                                                                                                                                                                                                                                                                                                                                                                                                                                                                                                                                                                                                                                                                                                                                                                                                                                                                                                                                                                                                                                                                                                                                                                                                                                                                                                                                                                                                                                                                                                                                                                                                                                                                                                                                                                                                                                                                                                                                                                                                                                                                                                                                                                                                                                                                                                                                                                                                                                                                                                                                                                                                                                                                                                                                                                                                                                                                                                                                                                                                                                                                                                                                                                                                                                                                                                                                                                                                                                                                                                                                                                                                                                                                                                                                                                                                                                                                                                                                                                                                                                                                                                                                                                                                                                                                                                                                                                                                                                                                                                                                                                                                                                                                                                                                                                                                                                                                                                                                                                                                                                                                                                                                                                                                                                                                                                                                                                                                                                                                                                                                                                                                                                                                                                                                                                                                                                                                                                                                                                                                                                                                                                                                                                                                                                                                                                                                                                                                                                                                                                                                                                                                                                                                                                                                                                                                                                                                                                                                                                                                                                                                                                                                                                                                                                                                                                                                                                                                                                                                                                                                                                                                                                                                                                                                                                                                                                                                                                                                                                                                                                                                                                                                                                                                                                                                                                                                                                                                                                                                                                                                                                                                                                                                                                                                                                                                                                                                                                                                                                                                                                                                                                                                                                                                                                                                                                                                                                                                                                                                                                                                                                                                                                                                                                                                                                                                                                                                                                                                                                                                                                                                                                                                                                                                                                                                                                                                                                                                                                                                                                                                                                                                                                                                                                                                                                                                                                                                                                                                                                                                                                                                                                                                                                                                                                                                                                                                                                                                                                                                                                                                                                                                                                                                                                                                                                                                                                                                                                                                                                                                                                                                                                                                                                                                                                                                                                                                                                                                                                                                                                                                                                                                                                                                                                                                                                                                                                                                                                                                                                                                                                                                                                                                                                                                                                                                                                                                                                                                                                                                                                                                                                                                                                                                                                                                                                                                                                                                                                                                                                                                                                                                                                                                                                                                   1\n",
      "Benitez issues warning to Gerrard\\n\\nLiverpool manager Rafael Benitez has ordered captain Steven Gerrard not to play down their Champions League ambitions and be more positive.\\n\\nGerrard told the BBC Liverpool were unlikely to win the trophy this year. Benitez responded: \"I spoke to Steven and said to him that in future it's better to think we can win the Champions League. Why not?\" He said: \"We need winners here and everyone thinking only of winning. I always want to win.\"\\n\\nBenitez added: \"When we lose I only think of solutions. If you only think about winning the next game, you don't know what the draw will be. \"If we can win the next game, maybe we will draw a side that isn't so strong, or a side with injuries or suspensions.\" Benitez is hoping to win his first trophy since arriving at Liverpool from Valencia when they play Chelsea in the Carling Cup on Sunday in Cardiff.                                                                                                                                                                                                                                                                                                                                                                                                                                                                                                                                                                                                                                                                                                                                                                                                                                                                                                                                                                                                                                                                                                                                                                                                                                                                                                                                                                                                                                                                                                                                                                                                                                                                                                                                                                                                                                                                                                                                                                                                                                                                                                                                                                                                                                                                                                                                                                                                                                                                                                                                                                                                                                                                                                                                                                                                                                                                                                                                                                                                                                                                                                                                                                                                                                                                                                                                                                                                                                                                                                                                                                                                                                                                                                                                                                                                                                                                                                                                                                                                                                                                                                                                                                                                                                                                                                                                                                                                                                                                                                                                                                                                                                                                                                                                                                                                                                                                                                                                                                                                                                                                                                                                                                                                                                                                                                                                                                                                                                                                                                                                                                                                                                                                                                                                                                                                                                                                                                                                                                                                                                                                                                                                                                                                                                                                                                                                                                                                                                                                                                                                                                                                                                                                                                                                                                                                                                                                                                                                                                                                                                                                                                                                                                                                                                                                                                                                                                                                                                                                                                                                                                                                                                                                                                                                                                                                                                                                                                                                                                                                                                                                                                                                                                                                                                                                                                                                                                                                                                                                                                                                                                                                                                                                                                                                                                                                                                                                                                                                                                                                                                                                                                                                                                                                                                                                                                                                                                                                                                                                                                                                                                                                                                                                                                                                                                                                                                                                                                                                                                                                                                                                                                                                                                                                                                                                                                                                                                                                                                                                                                                                                                                                                                                                                                                                                                                                                                                                                                                                                                                                                                                                                                                                                                                                                                                                                                                                                                                                                                                                                                                                                                                                                                                                                                                                                                                                                                                                                                                                                                                                                                                                                                                                                                                                                                                                                                                                                                                                                                                                                                                                                                                                                                                                                                                                                                                                                                                                                                                                                                                                                                                                                                                                                                                                                                                                                                                                                                                                                                                                                                                                                                                                                                                                                                                                                                                                                                                                                                                                                                                                                                                                                                                                                                                                                                                                                                                                                                                                                                                                                                                                                                                                                                                                                                                                                                                                                                                                                                                                                                                                                                                                                                                                                                                                                                                                                                                                                                                                                                                                                                                                                                                                                                                                                                                                                                                                                                                                                                                                                                                                 1\n",
      "Benitez joy as Reds take control\\n\\nLiverpool boss Rafael Benitez was satisfied after his team's 3-1 win over Bayer Leverkusen despite conceding a goal in the last minute.\\n\\n\"Before the game if you had said the score will be 3-1 I would have happily accepted that,\" said Benitez. \"But you must realise that you have to concentrate right to the very last seconds of a game at this level. \"I have confidence that we can complete the task in Germany. I am always confident and we must be positive.\"\\n\\nBenitez defended goalkeeper Jerzy Dudek, whose failure to hold on to Dimitar Berbatov's weak drive allowed Franca to score with the last kick of the game - and give the German team a lifeline for the second leg. \"For me it was not Jerzy Dudek's fault,\" added Benitez. \"He had played a very good game - and had we scored our other chances, nobody would be talking about about their goal. It would not have mattered. \"If we had scored our other chances it would not have been worth remembering that last goal. \"In my opinion Jerzy played well, made two very fine saves - and I am happy with him. \"If we lose 2-0 we are out but I think we can score in Germany - certainly one, and that will make all the difference.\" And the Liverpool boss is looking forward to having skipper Steven Gerrard, who was suspended for the Anfield leg, back for the return in Germany.\\n\\n\"Steven Gerrard is a key player for us,\" said Benitez. \"When he is on the pitch he makes everyone else play better - and the opposition pay special attention to him - which gives space for others. \"Steven is one of the best players in the world, but I need a team that is not about just one player. There must be 11 players on the pitch all doing well.\"                                                                                                                                                                                                                                                                                                                                                                                                                                                                                                                                                                                                                                                                                                                                                                                                                                                                                                                                                                                                                                                                                                                                                                                                                                                                                                                                                                                                                                                                                                                                                                                                                                                                                                                                                                                                                                                                                                                                                                                                                                                                                                                                                                                                                                                                                                                                                                                                                                                                                                                                                                                                                                                                                                                                                                                                                                                                                                                                                                                                                                                                                                                                                                                                                                                                                                                                                                                                                                                                                                                                                                                                                                                                                                                                                                                                                                                                                                                                                                                                                                                                                                                                                                                                                                                                                                                                                                                                                                                                                                                                                                                                                                                                                                                                                                                                                                                                                                                                                                                                                                                                                                                                                                                                                                                                                                                                                                                                                                                                                                                                                                                                                                                                                                                                                                                                                                                                                                                                                                                                                                                                                                                                                                                                                                                                                                                                                                                                                                                                                                                                                                                                                                                                                                                                                                                                                                                                                                                                                                                                                                                                                                                                                                                                                                                                                                                                                                                                                                                                                                                                                                                                                                                                                                                                                                                                                                                                                                                                                                                                                                                                                                                                                                                                                                                                                                                                                                                                                                                                                                                                                                                                                                                                                                                                                                                                                                                                                                                                                                                                                                                                                                                                                                                                                                                                                                                                                                                                                                                                                                                                                                                                                                                                                                                                                                                                                                                                                                                                                                                                                                                                                                                                                                                                                                                                                                                                                                                                                                                                                                                                                                                                                                                                                                                                                                                                                                                                                                                                                                                                                                                                                                                                                                                                                                                                                                                                                                                                                                                                                                                                                                                                                                                                                                                                                                                                                                                                                                                                                                                                                                                                                                                                                                                                                                                                                                                                                                                                                                                                                                                                                                                                                                                                                                                                                                                                                                                                                                                                                                                                                                                                                                                                                                                                                                                                                                                                                                                                                                                                                                                                                                                                                                                                                                                                                                                                                                                                                                                                                                                                                                                                                                                                                                                                                                                                                                                                                                                                                                                                                                                                                                                                                                                                                                                                                                                                                                                                                                                                                                                                                                                                                                                                      1\n",
      "Reyes tricked into Real admission\\n\\nJose Antonio Reyes has added to speculation linking him with a move from Arsenal to Real Madrid after falling victim to a radio prank.\\n\\nThe Spaniard believed he was talking to Real Madrid sporting director Emilio Butragueno when he allegedly berated his team-mates as \"bad people\". \"I wish I was playing for Real Madrid,\" the 21-year-old told Cadena Cope. \"Hopefully it could happen. I love the way Madrid play. I'm not happy with the way things are.\" The striker joined the Gunners from Seville for £17m at the start of 2004, but it has frequently been reported that he is homesick. He began the season in superb form but has struggled to maintain his high standards as Arsenal have gradually lost the Premiership initiative to Manchester United and Chelsea. \"If I'm not (playing for Real) I'm going to have to carry on playing with some bad people,\" he added.\\n\\n\"I'm sure there are none in the Real dressing room. \"I'm happy Madrid is interested in me because it has always been my dream since I was little to play there.\" Before the story surfaced, Reyes had moved to play down reports linking him with the Spanish giants, issuing a statement through Arsenal describing the speculation as \"flattering\". \"I have seen the stories in the media linking me with Real Madrid,\" he had said on Thursday lunchtime. \"But not only am I under contract at Arsenal, I am happy here and committed to helping the team win more trophies.\" Butragueno, meanwhile, was angry at being impersonated by the radio disc jockey. \"It is a disgrace, there is no foundation to this,\" he said. \"He is an Arsenal player and we have to be respectful. We have to be careful because of the rumours that appear in the news.\"                                                                                                                                                                                                                                                                                                                                                                                                                                                                                                                                                                                                                                                                                                                                                                                                                                                                                                                                                                                                                                                                                                                                                                                                                                                                                                                                                                                                                                                                                                                                                                                                                                                                                                                                                                                                                                                                                                                                                                                                                                                                                                                                                                                                                                                                                                                                                                                                                                                                                                                                                                                                                                                                                                                                                                                                                                                                                                                                                                                                                                                                                                                                                                                                                                                                                                                                                                                                                                                                                                                                                                                                                                                                                                                                                                                                                                                                                                                                                                                                                                                                                                                                                                                                                                                                                                                                                                                                                                                                                                                                                                                                                                                                                                                                                                                                                                                                                                                                                                                                                                                                                                                                                                                                                                                                                                                                                                                                                                                                                                                                                                                                                                                                                                                                                                                                                                                                                                                                                                                                                                                                                                                                                                                                                                                                                                                                                                                                                                                                                                                                                                                                                                                                                                                                                                                                                                                                                                                                                                                                                                                                                                                                                                                                                                                                                                                                                                                                                                                                                                                                                                                                                                                                                                                                                                                                                                                                                                                                                                                                                                                                                                                                                                                                                                                                                                                                                                                                                                                                                                                                                                                                                                                                                                                                                                                                                                                                                                                                                                                                                                                                                                                                                                                                                                                                                                                                                                                                                                                                                                                                                                                                                                                                                                                                                                                                                                                                                                                                                                                                                                                                                                                                                                                                                                                                                                                                                                                                                                                                                                                                                                                                                                                                                                                                                                                                                                                                                                                                                                                                                                                                                                                                                                                                                                                                                                                                                                                                                                                                                                                                                                                                                                                                                                                                                                                                                                                                                                                                                                                                                                                                                                                                                                                                                                                                                                                                                                                                                                                                                                                                                                                                                                                                                                                                                                                                                                                                                                                                                                                                                                                                                                                                                                                                                                                                                                                                                                                                                                                                                                                                                                                                                                                                                                                                                                                                                                                                                                                                                                                                                                                                                                                                                                                                                                                                                                                                                                                                                                                                                                                                                                                                                                                                                                                                                                                                                                                                                                                                                                                                                                                                                                                       1\n",
      "Rush future at Chester uncertain\\n\\nIan Rush's future as Chester manager is uncertain after he and assistant Mark Aizlewood refused a severance package.\\n\\nChester have won only two of their last 10 League games but Chairman Steve Vaughan claims he cannot afford to sack the 43-year-old Liverpool legend. Vaughan said: \"I offered a financial settlement so they could resign with dignity but an obvious action is to dismiss them. \"I haven't because of the finances, so technically they're still employees.\" Vaughan claimed that Aizlewood had \"verbally agreed\" to the offer. But the Chester chairman added: \"After they discussed the offer with their solicitor, who also acts as their agent, they decided to withdraw the verbal agreement, which was disappointing.\" Rush was appointed at the end of August following the departure of former Liverpool team-mate Mark Wright, who guided Chester to the Conference title last season. Chester were bottom of League Two when Rush took over but the former Liverpool striker enjoyed an impressive start to managerial life, taking the club into the third round of the FA cup and winning the manager-of-the-month award for October. Chester's downturn in form culminated in a 5-0 defeat at Shrewsbury that leaves them hovering just above the League Two relegation zone.                                                                                                                                                                                                                                                                                                                                                                                                                                                                                                                                                                                                                                                                                                                                                                                                                                                                                                                                                                                                                                                                                                                                                                                                                                                                                                                                                                                                                                                                                                                                                                                                                                                                                                                                                                                                                                                                                                                                                                                                                                                                                                                                                                                                                                                                                                                                                                                                                                                                                                                                                                                                                                                                                                                                                                                                                                                                                                                                                                                                                                                                                                                                                                                                                                                                                                                                                                                                                                                                                                                                                                                                                                                                                                                                                                                                                                                                                                                                                                                                                                                                                                                                                                                                                                                                                                                                                                                                                                                                                                                                                                                                                                                                                                                                                                                                                                                                                                                                                                                                                                                                                                                                                                                                                                                                                                                                                                                                                                                                                                                                                                                                                                                                                                                                                                                                                                                                                                                                                                                                                                                                                                                                                                                                                                                                                                                                                                                                                                                                                                                                                                                                                                                                                                                                                                                                                                                                                                                                                                                                                                                                                                                                                                                                                                                                                                                                                                                                                                                                                                                                                                                                                                                                                                                                                                                                                                                                                                                                                                                                                                                                                                                                                                                                                                                                                                                                                                                                                                                                                                                                                                                                                                                                                                                                                                                                                                                                                                                                                                                                                                                                                                                                                                                                                                                                                                                                                                                                                                                                                                                                                                                                                                                                                                                                                                                                                                                                                                                                                                                                                                                                                                                                                                                                                                                                                                                                                                                                                                                                                                                                                                                                                                                                                                                                                                                                                                                                                                                                                                                                                                                                                                                                                                                                                                                                                                                                                                                                                                                                                                                                                                                                                                                                                                                                                                                                                                                                                                                                                                                                                                                                                                                                                                                                                                                                                                                                                                                                                                                                                                                                                                                                                                                                                                                                                                                                                                                                                                                                                                                                                                                                                                                                                                                                                                                                                                                                                                                                                                                                                                                                                                                                                                                                                                                                                                                                                                                                                                                                                                                                                                                                                                                                                                                                                                                                                                                                                                                                                                                                                                                                                                                                                                                                                                                                                                                                                                                                                                                                                                                                                                                                                                                                                                                                                                                                                                                                                                                                                                                                                                                                                                    1\n",
      "                                                                                                                                                                                                                                                                                                                                                                                                                                                                                                                                                                                                                                                                                                                                                                                                                                                                                                                                                                                                                                                                                                                                                                                                                                                                                                                                                                                                                                                                                                                                                                                                                                                                                                                                                                                                                                                                                                                                                                                                                                                                                                                                                                                                                                                                                                                                                                                                                                                                                                                                                                                                                                                                                                                                                                                                                                                                                                                                                                                                                                                                                                                                                                                                                                                                                                                                                                                                                                                                                                                                                                                                                                                                                                                                                                                                                                                                                                                                                                                                                                                                                                                                                                                                                                                                                                                                                                                                                                                                                                                                                                                                                                                                                                                                                                                                                                                                                                                                                                                                                                                                                                                                                                                                                                                                                                                                                                                                                                                                                                                                                                                                                                                                                                                                                                                                                                                                                                                                                                                                                                                                                                                                                                                                                                                                                                                                                                                                                                                                                                                                                                                                                                                                                                                                                                                                                                                                                                                                                                                                                                                                                                                                                                                                                                                                                                                                                                                                                                                                                                                                                                                                                                                                                                                                                                                                                                                                                                                                                                                                                                                                                                                                                                                                                                                                                                                                                                                                                                                                                                                                                                                                                                                                                                                                                                                                                                                                                                                                                                                                                                                                                                                                                                                                                                                                                                                                                                                                                                                                                                                                                                                                                                                                                                                                                                                                                                                                                                                                                                                                                                                                                                                                                                                                                                                                                                                                                                                                                                                                                                                                                                                                                                                                                                                                                                                                                                                                                                                                                                                                                                                                                                                                                                                                                                                                                                                                                                                                                                                                                                                                                                                                                                                                                                                                                                                                                                                                                                                                                                                                                                                                                                                                                                                                                                                                                                                                                                                                                                                                                                                                                                                                                                                                                                                                                                                                                                                                                                                                                                                                                                                                                                                                                                                                                                                                                                                                                                                                                                                                                                                                                                                                                                                                                                                                                                                                                                                                                                                                                                                                                                                                                                                                                                                                                                                                                                                                                                                                                                                                                                                                                                                                                                                                                                                                                                                                                                                                                                                                                                                                                                                                                                                                                                                                                                                                                                                                                                                                                                                                                                                                                                                                                                                                                                                                                                                                                                                                                                                                                                                                                                                                                                                                                                                                                                                                                                                                                                                                                                                                                                                                                                                                                                                                                                                                                                                                                                                                                                                          ..\n",
      "Show over for MTV's The Osbournes\\n\\nRock star Ozzy Osbourne has said his family will not make any more episodes of reality TV show The Osbournes.\\n\\n\"At the end of it I didn't like having cameras around the house all the time,\" the Black Sabbath singer told reporters at the MTV Europe Awards in Rome. His wife Sharon, who also appears in the popular MTV show based on the Osbournes' family life, agreed. \"Now everybody's doing reality shows. He's done it, he's been there, he's got to do something else,\" she said.\\n\\nOzzy Osbourne said he had had enough of the work involved in making the series. \"When you watch a 25-minute episode, I've been filming all day,\" he said. Sharon Osbourne is currently appearing as a judge and mentor in ITV1 talent show The X-Factor alongside Simon Cowell and Louis Walsh.\\n\\nEarlier this year she topped a poll of the most important people in rock, for her part in guiding the career of husband Ozzy and her family. She was the driving force behind The Osbournes, which ran for three series, earning the family a reported $85m (£46m). The renewed popularity for Ozzy has seen sales of his merchandise hit the $50m (£27.2m) mark, a record for a heavy metal artist. Sales of T-shirts, accessories and action figures have rocketed since The Osbournes hit screens. At its peak, The Osbournes had a regular audience of eight million, with America's TV Guide magazine describing the series as \"a cross between The Simpsons and This Is Spinal Tap\". Osbourne himself was at a loss to explain its popularity: \"I suppose Americans get a kick out of watching a crazy Brit family like us make complete fools of ourselves every week.\"                                                                                                                                                                                                                                                                                                                                                                                                                                                                                                                                                                                                                                                                                                                                                                                                                                                                                                                                                                                                                                                                                                                                                                                                                                                                                                                                                                                                                                                                                                                                                                                                                                                                                                                                                                                                                                                                                                                                                                                                                                                                                                                                                                                                                                                                                                                                                                                                                                                                                                                                                                                                                                                                                                                                                                                                                                                                                                                                                                                                                                                                                                                                                                                                                                                                                                                                                                                                                                                                                                                                                                                                                                                                                                                                                                                                                                                                                                                                                                                                                                                                                                                                                                                                                                                                                                                                                                                                                                                                                                                                                                                                                                                                                                                                                                                                                                                                                                                                                                                                                                                                                                                                                                                                                                                                                                                                                                                                                                                                                                                                                                                                                                                                                                                                                                                                                                                                                                                                                                                                                                                                                                                                                                                                                                                                                                                                                                                                                                                                                                                                                                                                                                                                                                                                                                                                                                                                                                                                                                                                                                                                                                                                                                                                                                                                                                                                                                                                                                                                                                                                                                                                                                                                                                                                                                                                                                                                                                                                                                                                                                                                                                                                                                                                                                                                                                                                                                                                                                                                                                                                                                                                                                                                                                                                                                                                                                                                                                                                                                                                                                                                                                                                                                                                                                                                                                                                                                                                                                                                                                                                                                                                                                                                                                                                                                                                                                                                                                                                                                                                                                                                                                                                                                                                                                                                                                                                                                                                                                                                                                                                                                                                                                                                                                                                                                                                                                                                                                                                                                                                                                                                                                                                                                                                                                                                                                                                                                                                                                                                                                                                                                                                                                                                                                                                                                                                                                                                                                                                                                                                                                                                                                                                                                                                                                                                                                                                                                                                                                                                                                                                                                                                                                                                                                                                                                                                                                                                                                                                                                                                                                                                                                                                                                                                                                                                                                                                                                                                                                                                                                                                                                                                                                                                                                                                                                                                                                                                                                                                                                                                                                                                                                                                                                                                                                                                                                                                                                                                                                                                                                                                                                                                                                                                                                                                                                                                                                                                                                                                                                                                                                                                                                                                                                                                  1\n",
      "Wife Swap makers sue US 'copycat'\\n\\nThe British producers of US Wife Swap are taking legal action against a show they claim is \"a blatant and wholescale copycat\" of their programme.\\n\\nRDF Media, which makes the show for US network ABC, has filed a damages claim for $18 million (£9.25 million) against Fox's Trading Spouses. ABC bought the rights to the British show, which was first aired in 2003 and became a hit on Channel 4. The US network is not part of the claim, but has supported RDF's action. \"We respect our producing partners' right to protect their intellectual property in whatever manner they deem most appropriate,\" said ABC in a statement. A spokesman for Fox said it had not seen the details of the legal action and could not comment.\\n\\nTheir show was first screened in June, and was criticised in the press for its similarities to Wife Swap. ABC originally planned to call their programme Trading Moms, but changed it to avoid confusion with the Fox version. Earlier this year, the NBC network claimed that Fox's boxing show The Next Great Champ had been hurriedly produced to ensure its programme was the first to be screened. NBC alleged that boxing regulations had been violated, but failed in their attempt to have the show pulled. The Fox show proved a ratings flop, while NBC's The Contender is due to begin in February.                                                                                                                                                                                                                                                                                                                                                                                                                                                                                                                                                                                                                                                                                                                                                                                                                                                                                                                                                                                                                                                                                                                                                                                                                                                                                                                                                                                                                                                                                                                                                                                                                                                                                                                                                                                                                                                                                                                                                                                                                                                                                                                                                                                                                                                                                                                                                                                                                                                                                                                                                                                                                                                                                                                                                                                                                                                                                                                                                                                                                                                                                                                                                                                                                                                                                                                                                                                                                                                                                                                                                                                                                                                                                                                                                                                                                                                                                                                                                                                                                                                                                                                                                                                                                                                                                                                                                                                                                                                                                                                                                                                                                                                                                                                                                                                                                                                                                                                                                                                                                                                                                                                                                                                                                                                                                                                                                                                                                                                                                                                                                                                                                                                                                                                                                                                                                                                                                                                                                                                                                                                                                                                                                                                                                                                                                                                                                                                                                                                                                                                                                                                                                                                                                                                                                                                                                                                                                                                                                                                                                                                                                                                                                                                                                                                                                                                                                                                                                                                                                                                                                                                                                                                                                                                                                                                                                                                                                                                                                                                                                                                                                                                                                                                                                                                                                                                                                                                                                                                                                                                                                                                                                                                                                                                                                                                                                                                                                                                                                                                                                                                                                                                                                                                                                                                                                                                                                                                                                                                                                                                                                                                                                                                                                                                                                                                                                                                                                                                                                                                                                                                                                                                                                                                                                                                                                                                                                                                                                                                                                                                                                                                                                                                                                                                                                                                                                                                                                                                                                                                                                                                                                                                                                                                                                                                                                                                                                                                                                                                                                                                                                                                                                                                                                                                                                                                                                                                                                                                                                                                                                                                                                                                                                                                                                                                                                                                                                                                                                                                                                                                                                                                                                                                                                                                                                                                                                                                                                                                                                                                                                                                                                                                                                                                                                                                                                                                                                                                                                                                                                                                                                                                                                                                                                                                                                                                                                                                                                                                                                                                                                                                                                                                                                                                                                                                                                                                                                                                                                                                                                                                                                                                                                                                                                                                                                                                                                                                                                                                                                                                                                                                                                                                                                                                                                                                                                                                                                                                                                                                                                                                        1\n",
      "No charges against TV's Cosby\\n\\nUS comedian Bill Cosby will not face charges stemming from an allegation of sexual misconduct.\\n\\nAuthorities in Philadelphia said they found insufficient evidence to support the woman's allegations regarding an alleged incident in January 2004. The woman reported the allegations to Canadian authorities last month. Cosby's lawyer, Walter M Phillips Jr, said the comedian was pleased with the decision. \"He looks forward to moving on with his life,\" he said. District Attorney Bruce L Castor Jr, who was in charge of the case, said that detectives could find no instance \"where anyone complained to law enforcement of conduct which would constitute a criminal offence.\\n\\nHe also said that the fact the woman waited a year before coming forward, and she had had further contact with Cosby during that time, were also factors in his decision. The unidentified woman's lawyer, Dolores M Troiani, said her client was likely to sue the comedian. \"I think that's the only avenue open to her. She felt, as we did, that it's a very strong case and she was telling the truth.\" She also said that the woman supplied further evidence to prosecutors that she believed strengthened her allegations. Cosby emerged as one of the first black comics to have mainstream success in the US. He was a successful stand-up before hosting the children's show Fat Albert and the Cosby Kids, and starring in The Cosby Show, one of the biggest sitcoms of the 1980s.                                                                                                                                                                                                                                                                                                                                                                                                                                                                                                                                                                                                                                                                                                                                                                                                                                                                                                                                                                                                                                                                                                                                                                                                                                                                                                                                                                                                                                                                                                                                                                                                                                                                                                                                                                                                                                                                                                                                                                                                                                                                                                                                                                                                                                                                                                                                                                                                                                                                                                                                                                                                                                                                                                                                                                                                                                                                                                                                                                                                                                                                                                                                                                                                                                                                                                                                                                                                                                                                                                                                                                                                                                                                                                                                                                                                                                                                                                                                                                                                                                                                                                                                                                                                                                                                                                                                                                                                                                                                                                                                                                                                                                                                                                                                                                                                                                                                                                                                                                                                                                                                                                                                                                                                                                                                                                                                                                                                                                                                                                                                                                                                                                                                                                                                                                                                                                                                                                                                                                                                                                                                                                                                                                                                                                                                                                                                                                                                                                                                                                                                                                                                                                                                                                                                                                                                                                                                                                                                                                                                                                                                                                                                                                                                                                                                                                                                                                                                                                                                                                                                                                                                                                                                                                                                                                                                                                                                                                                                                                                                                                                                                                                                                                                                                                                                                                                                                                                                                                                                                                                                                                                                                                                                                                                                                                                                                                                                                                                                                                                                                                                                                                                                                                                                                                                                                                                                                                                                                                                                                                                                                                                                                                                                                                                                                                                                                                                                                                                                                                                                                                                                                                                                                                                                                                                                                                                                                                                                                                                                                                                                                                                                                                                                                                                                                                                                                                                                                                                                                                                                                                                                                                                                                                                                                                                                                                                                                                                                                                                                                                                                                                                                                                                                                                                                                                                                                                                                                                                                                                                                                                                                                                                                                                                                                                                                                                                                                                                                                                                                                                                                                                                                                                                                                                                                                                                                                                                                                                                                                                                                                                                                                                                                                                                                                                                                                                                                                                                                                                                                                                                                                                                                                                                                                                                                                                                                                                                                                                                                                                                                                                                                                                                                                                                                                                                                                                                                                                                                                                                                                                                                                                                                                                                                                                                                                                                                                                                                                                                                                                                                                                                                                                                                                                                                                                                                                                                                                                                          1\n",
      "Greer attacks 'bully' Big Brother\\n\\nGermaine Greer has criticised Celebrity Big Brother's \"bullying\" of housemates after quitting the reality TV show.\\n\\nShe said \"superior\" bullying tactics, like making housemates cold and hungry, could encourage playground bullying. She also condemned the \"complete irresponsibility\" of adding Brigitte Nielsen's former mother-in-law Jackie Stallone to the house on Monday. Nielsen had panicked that if she reacted badly it could harm her access to her children, Greer said. The feminist writer and broadcaster said Big Brother had behaved \"like a child rather than a parent\" by taunting contestant John McCririck after denying him a cola drink. \"I thought it was actually demonstrating the role of taunting in the playground and there are so many children whose lives have actually been destroyed by taunting in the playground,\" Greer said. She also said that her fellow housemates had publicity-seeking \"agendas\".\\n\\n\"I had no idea who would be in here and it's wrong for me to present myself in the same context as they are.\" Media observers had been surprised by Greer's initial decision to join the third celebrity version of the Channel 4 reality TV show, given that she has written critical articles about the format in the past. As she packed her suitcase to leave the house she told fellow housemates: \"I'm leaving over specific issues, but best for everyone if I don't discuss them. \"I have a problem with decisions, I make them fast and when I make them, I stick to them.\" Greer had earlier failed to persuade other contestants to stage a naked protest against Big Brother.\\n\\nOther celebrities to walk out of a reality show TV include Sex Pistol John Lydon, former EastEnders actress Danniella Westbrook and ex-E17 singer Brian Harvey who all left I'm A Celebrity... Get Me Out Of Here. Previous Big Brother housemates to leave before their time were Sunita Sharma and Sandy Cumming from the third series of the non-celebrity version of the show.\\n\\nVOTE   Was Germaine Greer right to leave Celebrity Big Brother?   Yes  No   Results are indicative and may not reflect public opinion\\n\\nHappy Mondays dancer Bez is now 2-1 favourite to win the show, followed by Blazin' Squad singer Kenzie at 5-2 and actor Jeremy Edwards at 4-1. Ladbrokes spokesman Warren Lush said that the series was still \"wide open\", adding that the last 24 hours had also seen a rush of bets on McCririck slashing his odds to 8-1. DJ Lisa I'Anson is the outsider with odds of 40-1, while Jackie Stallone, who joined the house on Monday, is also one of the less popular housemates at 20-1. The first eviction of the series has now been postponed after Greer's exit unexpectedly reduced the number of competitors. The eight remaining contestants are competing for a £50,000 prize, to be donated to the charity of their choice, if they survive a series of public votes. For every 50p vote cast by viewers by telephone or text during the programme's run, 9p will go to a tsunami charity appeal.                                                                                                                                                                                                                                                                                                                                                                                                                                                                                                                                                                                                                                                                                                                                                                                                                                                                                                                                                                                                                                                                                                                                                                                                                                                                                                                                                                                                                                                                                                                                                                                                                                                                                                                                                                                                                                                                                                                                                                                                                                                                                                                                                                                                                                                                                                                                                                                                                                                                                                                                                                                                                                                                                                                                                                                                                                                                                                                                                                                                                                                                                                                                                                                                                                                                                                                                                                                                                                                                                                                                                                                                                                                                                                                                                                                                                                                                                                                                                                                                                                                                                                                                                                                                                                                                                                                                                                                                                                                                                                                                                                                                                                                                                                                                                                                                                                                                                                                                                                                                                                                                                                                                                                                                                                                                                                                                                                                                                                                                                                                                                                                                                                                                                                                                                                                                                                                                                                                                                                                                                                                                                                                                                                                                                                                                                                                                                                                                                                                                                                                                                                                                                                                                                                                                                                                                                                                                                                                                                                                                                                                                                                                                                                                                                                                                                                                                                                                                                                                                                                                                                                                                                                                                                                                                                                                                                                                                                                                                                                                                                                                                                                                                                                                                                                                                                                                                                                                                                                                                                                                                                                                                                                                                                                                                                                                                                                                                                                                                                                                                                                                                                                                                                                                                                                                                                                                                                                                                                                                                                                                                                                                                                                                                                                                                                                                                                                                                                                                                                                                                                                                                                                                                                                                                                                                                                                                                                                                                                                                                                                                                                                                                                                                                                                                                                                                                                                                                                                                                                                                                                                                                                                                                                                                                                                                                                                                                                                                                                                                                                                                                                                                                                                                                                                                                                                                                                                                                                                                                                                                                                                                                                                                                                                                                                                                                                                                                                                                                                                                                                                                                                                                                                                                                                                                                                                                                                                                                                                                                                                                                                                                                                                                                                                                                                                                                                                                                                                                                                                                                                                                                                                                                                                                                                                                                                                                       1\n",
      "Losing yourself in online gaming\\n\\nOnline role playing games are time-consuming, but enthralling flights from reality. But are some people taking their fantasy lives too seriously?\\n\\nWhen video game World of Warcraft hit the shops in Europe last week fans wrote in to the BBC website to express their delight - and to offer a warning. \"An addiction to a game like this is far more costly in time than any substance could impair - keep track of time,\" wrote Travis Anderson, in Texas. Some of the comments were humorous: \"This game is so good I'm not going to get it, there's no way I could limit the hours I'd spend playing it,\" wrote Charles MacIntyre, from England.\\n\\nBut some struck a more worrying tone about the Massively Multiplayer Online Role Playing Game (MMORPG): \"'You need to get out more' could be the motto of any MMORPG. Shame they are getting more popular, as you know this problem is just going to mushroom,\" wrote Stuart Stanton-Davies, in Huddersfield. Scare-mongering articles about \"addictive video games\" have existed since the days the first game of Pong stopped everyone from working at the Atari offices.\\n\\nGaming is like any other pastime - it can quickly become an unhealthy obsession, whether it is spending too much time in the gym, in front of the television, or reading poetry.\\n\\nUnfortunately, gaming and addiction is a far too easy association to make. However, stories about gamers spending 10 to 15 hours a day in front of some video games are becoming more frequent. And the impact that is having on their families is quite distressing for some.\\n\\nMassively multiplayer online role playing games - MMORPGs - allow thousands of gamers to share a common experience of sharing fantasy or science fiction worlds. The scope of these games - like Warcraft, EverQuest, Ultima among others - is epic, and exploration and adventure is almost infinite. Part of the \"problem\" is grinding - by which gamers have to perform long-winded, mindless tasks, to bring up their levels and gain access to more adventure. Such open-endedness brings with it a desire to keep playing; not for no reason is EverQuest (EQ) nicknamed EverCrack. E Hayot, writing in the culture blogzine Print Culture, said recently: \"I used to play the online role-playing game EverQuest a lot. \"By 'a lot', I mean probably 15 to 20 hours a week on average, and on weeks where I didn't have to work, as many as 30 or 40 hours.\"\\n\\nHe says that in the world of online gaming such behaviour \"wasn't that unusual; lots of people I knew in the game played EQ that much\". \"You lie; you don't go into work because you \"had stuff to do at home\"; you cancel or refuse invitations to dinner, you spend much less time watching TV (a good thing, presumably),\" he wrote, explaining how EverQuest took over his time. He quit the game, he says, because he realised life was more fun than EverQuest.\\n\\nLet us be clear - such obsession is rare. But the huge growth in online gaming means a growth in the numbers of people who take their passion for a hobby too far. Almost 400,000 people bought a copy of World of Warcraft in the first two days on sale earlier this month. Only a fraction will descend into obsessives. The thoughts of families and friends of gamers who have been affected by EverQuest can be found on one blog EverQuest Daily Grind. Jane, who runs the website, compiles a chronicle of heart-rending stories. \"I am actually convinced at this point that there are more than 'some' people who spend more times in MMOPRGs than in reality,\" she said. One unnamed correspondent - all are anonymous - wrote: \"On the rare nights when my husband does come to bed at the same time as I do, I find that I am so used to sleeping by myself that it is difficult to get to sleep with another body laying next to me.\\n\\n\"I can't talk to him while he is playing. There is absolutely no point as he doesn't hear me or is so distracted that I get a 'ummm... ya' a few minutes after I ask him a question.\"\\n\\n\"Gaming widows\" has become a comedic term for women who have been shut out by male gamers. But for some it is not in the least funny. Another correspondent wrote: \"I believe that he is addicted to the online gaming, and that is the cause of his depression and restlessness.\" And some of them are even sadder: \"Today our son was five days old. \"The sad truth is my husband spent 11 hours today playing his Warcraft game. He did not interact with our sweet tiny baby because there were important quests waiting online.\" Video game fans often complain that their hobby is misunderstood or marginalised. But as gaming becomes ever more mainstream, and games ever more immersive, there will be no hiding place for social problems.\\n\\n\\n\\nI wish 30-40 hours a week was unusual but I think it probably isn't. An 11 hour stretch isn't that surprising - I've known people to play 15+ hours at a stretch. I know of people who are spending their week's holiday from work playing Warcraft. I know of people who would play Ever[Crack] in shifts...waking at 3am to take over from their friends and resume waiting for an item they 'needed' to appear. I understand that the key sign of an addiction is if you alter your life around it rather than fit it into your life. By all standards many of us are addicts. So is the solution to force ourselves to stop playing..or do we just need to make real life a bit more interesting?\\n\\nSadly with all the talk of people becoming obsessed with gaming, I find myself longing to have the time to join them. I have been in a long term relationship for over 4 years - since that began, games have become more and more complex. And more and more so I find I have less and less time to play them, with and marriage and work being the main drag on my time.\\n\\nI think the line between playing a game a lot and a gaming addiction is really quite distinct. I play games a lot, definately over 20 hours a week, but I don't go missing work or other commitments in order to play games.\\n\\nI have, about a year ago, deleted every game on my computer. RPGs are the worst - the real world fades and all your worries sorround a new magic staff or mighty sword. Unlike books, or perhaps even TV, you gain absolutely nothing. When you stop playing you're at the same point as when you started; all the achievements of your 10 hour session are irretrievably locked in the game and, since you've gained nothing in the real world, you may as well pile on more achievement in the fake one.\\n\\nDespite having little monetary value, the \"rewards\" and encouragement offered by these MMORPGs is enough to hook games for hours daily. If only business could learn to leverage that very simply human need for easily measurable progress and recognition. Perhaps the unhealthily obsessed simply need more recognition for their achievements in reality?\\n\\nMy advice to gaming widows is \"if you can't beat 'em, join 'em\". That is, try playing it yourself. If he wants to play as well, well at least you'll be together somewhere...\\n\\nI was an addict and it cost me my relationship. I still play now, but without the guilt , hehe, How long have i played in one sitting? From morning till the early hours of the next day, the birds were singing out side and i had to hobble to the bath room cos my bladder was so full i was in pain, i would hardly eat, perhaps some toast, smoke endlessly and drink. Now, thankfully the fascination has worn off and I have a girlfriend but still no job. For the most part online gaming give me an adiction to illusory achievement, and as there is no end in sight you keep going for the mirage of the ultimate.\\n\\nObsessive behaviour is, of course, always cause for concern, but it always bothers me when articles about gaming talk in terms of \"reality\". Obviously, somebody who spends thirty hours a week playing EverQuest has a problem. This problem, however, has nothing to do with a dysfunctional sense of reality. An obsessive EQ player does not consider the game to be \"real\" any more than - for example - an obsessive automotive tinkerer considers their car to be human. If MMORPGs have a unique danger, in terms of encouraging obsessive behaviour, it is not that they create an absorbing virtual world, but rather that they can be easily accessed 24/7. The problem here does not lie with the nature of gaming, but with the nature of modern 24 hour culture.\\n\\nThe problem with these so called MMORPGS is that you can never really complete them, there's always another quest to do. A few of my friends have only had about 10 hours sleep since it was released friday...\\n\\nChampionship Manager consumed my life for years. One particular session started at about 2pm on a Sunday, paused for a brief sleep at 5am on the Monday and after visit to University for classes restarted at about midday for another 10 hour session. The people who tend to hark on about about the problems of \"hardcore gaming\" seem to be those who have rarely allowed themselves to become immersed in a game. I would expect their perspective to change if they were to do that.\\n\\nI used to be an EverQuest addict while I was in college. It came to the point where the gaming world felt more real than the real one. I failed alot of my courses and was able to barely graduate. I was lucky that I came to my senses when I did, others were less fortunate and dropped out of college. Now that I am holding a job, I avoid online RPGS like the plague.\\n\\nWhen I was made redundant I told my partner I had a new job for three months whilst every day I played EverQuest from 7:30am till 5:pm. When She came home I pretended I had just got in as well, hence justifying playing it all evening. I have since quit playing MMORPG and have a good job.\\n\\nWhen I got to the point where I was eating my dinner in front of the PC I realised things were getting silly so I'm trying not to spend so much time on there. It's not easy. I feel as if I've got a real addiction going on here.\\n\\nFor me the problem is that I love to complete a goal. Once it is completed that is it, I am finished, time to move on. I become obsessed to complete the goal, so from that standpoint it is an addiction. In a game where you will never complete an \"ultimate\" goal, well it would be like falling into a black pit. It is easier to escape into a controlled fantasy world than face reality at times - in other words the goal offered in the PC game are \"easier\" and more fun than the real world. Pretty scary implications if you think about it.\\n\\nI can't buy World of Warcraft as it would destroy my marrage, I just know it!!\\n\\nI played Star Wars Galaxies for about a year and can attest to the addictiveness of these games. They are all engineered in such a way that early on in the game you progress quickly, but this progress becomes exponentially slower, requiring more and more time to reach the next level. I'm sad to say that at the peak of my addiction I was spending entire weekends in front of my monitor, slowly building up my character, stopping only for food and toilet breaks. Thankfully I made a clean break, and actually managed to sell my Jedi account for £800 - which is my only sanity check in an otherwise completely unproductive time vacuum.\\n\\nSeven years ago, I began playing Ultima Online. This game dominated 2 years of my life. They were 2 wonderful years and I still have vivid memories of the experiences and friends I had. Online gaming can be a world of escapism where you can be yourself without fear of the thoughts of others. Something that cannot always be achieved in the day to day running of a normal life. Whilst I would warn against people giving to much of there life to these games, I believe they are a better way to spend your time than say watching TV.\\n\\nGaming is addictive and should be made a recognised addiction. When I was single I used to play upto eight hours a night after work every night for about a year, building up my stats, completing evermore quests and battling ogres. But somehow I found time to get out, even met someone and got married! Has my life changed? Hell no! I still cast spells and battle till the early hours of the morning. On with the fun!\\n\\nOnline gaming should be enjoyed just as much as you would enjoy watching television, or going to the cinema or the pub with your mates.\\n\\nMany people use recreational drugs on an occasional basis and are able to lead succesfull lives with families, relationships and good careers. A minority allow drugs to take over and destroy their lives and become addicted. According to this article the same is true of MMORPGs. The message to the government is clear, either legalise drugs, or outlaw online gaming!!\\n\\nSounds like there are some sad stories here - and I can believe them all. I play alot of Warcraft myself, and know full well how addictive it is. I am resolute that it will not take over my life. It certainly gets in the way though. I think that some people simply do not know how to draw this line, or lack the willpower to stop themselves stepping over it.\\n\\nI think I'm obsessed with gaming in general, I spend far too much time playing games like Everquest 2 and Football Manager rather than going out and interacting with real people and when I do try to, I'm always thinking in the back if my mind that I'd rather be in front of the computer winning the league with Cambridge United.\\n\\nI am obsessed with online role playing games. It's not so much quests but it has the adrenaline of a real life situation - goals to achieve etc. I spend about five hours per day online playing it and I rarely get more than four to five hours sleep before getting up for work the next morning...\\n\\nAs many of the players spend their time in MMORPGs rather than in front of the TV I fail to see how it will affect players social lives negatively. Furthermore these types of games contain a huge social aspect, whereas other games and some other pursuits (such as being a couch potato) the players could be indulging in are solitary by nature.\\n\\nThese games are like most things -- too much of anything is a bad thing, but as long as you can walk away from the computer to do other things too, they can be great fun.\\n\\nLiving in Korea at the moment, they have lots PC Bangs (Internet Cafes). Nearly most of South Koreans are addicted to online games, and one Korean died because of the lack of food and water he had through playing online games.\\n\\nI play xbox live every day. I find my self lying and rescheduling everything around my gaming fix. The longest I played was a 24 hour straight session. I know I play for to long but it's an obsession that I can't control. Can you reccomend a counsellor - this is not a wind up... but something I'm increasingly concerned with...\\n\\nMe and my mate play online for an hour or two a day, we're both aware of how much time can disappear by sitting in front of a TV, trying to 'frag' some individual. It's getting the balance between getting home and relasing the stress of a day by an hour or so gaming, and enjoying 'real' life...\\n\\nI bought the US version of World of Warcraft when it came out. The longest period I played was 23 hrs straight. I gave up the game after a month because it was so addictive, but have subsequently just bought the European version (couldn't help myself). In future, I'm going to regulate my time far more strictly. Great game!\\n\\nHaving played MMORPG games for some years I agree that these type of games can be life sucking. But my concern is for the younger generation of gamers that play for hours on end in an adult enviroment. Most MMORPG games you need a credit card to play but I dont think parents know just what they are letting there children into.\\n\\nUnless there is undeniable medical proof that staring at a computer screens for hours at a time can damage a person&#191;s health, you can expect this not to decline but to get worse.\\n\\nThese people are pathetic. They need to get off their machines and notice that our world is being swiftly overcome by issues and troubles that make the trifling worries of and \"online universe\" absolutely meaningless.\\n\\n24hours, when i was a kid at school and i was on half term, Ultima Online was the game, ahhhh them was the days ! LOL    1\n",
      "Name: count, Length: 2127, dtype: int64\n",
      "------------------------------------------------------------\n",
      "for labels : \n",
      " labels\n",
      "sport            505\n",
      "business         503\n",
      "politics         403\n",
      "entertainment    369\n",
      "tech             347\n",
      "Name: count, dtype: int64\n",
      "------------------------------------------------------------\n"
     ]
    }
   ],
   "source": [
    "#check object features\n",
    "#no object features exist\n",
    "for i in  df.select_dtypes('object'):\n",
    "    print(f'for {i} : \\n',df[i].value_counts())\n",
    "    print('-'*60)"
   ]
  },
  {
   "cell_type": "code",
   "execution_count": 132,
   "metadata": {},
   "outputs": [],
   "source": [
    "#inputs and lables\n",
    "inputs = df['text']\n",
    "labels = df['labels']"
   ]
  },
  {
   "cell_type": "markdown",
   "metadata": {},
   "source": [
    "**EDA**"
   ]
  },
  {
   "cell_type": "code",
   "execution_count": 133,
   "metadata": {},
   "outputs": [
    {
     "data": {
      "text/plain": [
       "<Axes: >"
      ]
     },
     "execution_count": 133,
     "metadata": {},
     "output_type": "execute_result"
    },
    {
     "data": {
      "image/png": "[encoded data removed]",
      "text/plain": [
       "<Figure size 500x500 with 1 Axes>"
      ]
     },
     "metadata": {},
     "output_type": "display_data"
    }
   ],
   "source": [
    "#little bit EDA\n",
    "#apply histogram on labels which is our output and apply figure size\n",
    "#matplotlib.pyplot as plt is the library\n",
    "#we see if we have inbalanced classes at the same time\n",
    "#checking imbalancing classes always befire splitting\n",
    "labels.hist(figsize=(5,5))"
   ]
  },
  {
   "cell_type": "markdown",
   "metadata": {},
   "source": [
    "**Train and Test Split**"
   ]
  },
  {
   "cell_type": "code",
   "execution_count": 134,
   "metadata": {},
   "outputs": [],
   "source": [
    "#split data\n",
    "#apply feature extraction of text after split not like classical machine learning \n",
    "#name it here inputs so we can name it later x train and x test with count vectorizer\n",
    "#with count vectorizer we use inputs only as it is feature extraction adn encoding at the same time\n",
    "inputs_train , inputs_test , y_train , y_test = train_test_split(inputs , labels , random_state=42)"
   ]
  },
  {
   "cell_type": "code",
   "execution_count": 135,
   "metadata": {},
   "outputs": [
    {
     "data": {
      "text/plain": [
       "394     Monsanto fined $1.5m for bribery\\n\\nThe US agr...\n",
       "952     Tory backing for ID cards\\n\\nThe Tories are to...\n",
       "39      Umbro profits lifted by Euro 2004\\n\\nUK sports...\n",
       "462     IMF agrees fresh Turkey funding\\n\\nTurkey has ...\n",
       "555     Horror film heads US box office\\n\\nA low-budge...\n",
       "                              ...                        \n",
       "1638    A November to remember\\n\\nLast Saturday, one n...\n",
       "1095    Terror detainees win Lords appeal\\n\\nDetaining...\n",
       "1130    Labour seeks to quell feud talk\\n\\nLabour's le...\n",
       "1294    Chepkemei hit by big ban\\n\\nKenya's athletics ...\n",
       "860     Jackson film 'absolute disaster'\\n\\nA PR exper...\n",
       "Name: text, Length: 1595, dtype: object"
      ]
     },
     "execution_count": 135,
     "metadata": {},
     "output_type": "execute_result"
    }
   ],
   "source": [
    "inputs_train"
   ]
  },
  {
   "cell_type": "code",
   "execution_count": 136,
   "metadata": {},
   "outputs": [
    {
     "data": {
      "text/plain": [
       "282     EU 'too slow' on economic reforms\\n\\nMost EU c...\n",
       "1999    BBC web search aids odd queries\\n\\nThe BBC's o...\n",
       "1709    Serena becomes world number two\\n\\nSerena Will...\n",
       "988     Boothroyd calls for Lords speaker\\n\\nBetty Boo...\n",
       "2018    Fast lifts rise into record books\\n\\nTwo high-...\n",
       "                              ...                        \n",
       "746     Brit awards for Devon music acts\\n\\nDevon sing...\n",
       "1717    What now for British tennis?\\n\\nTim Henman's d...\n",
       "1782    Microsoft seeking spyware trojan\\n\\nMicrosoft ...\n",
       "123     Bargain calls widen Softbank loss\\n\\nJapanese ...\n",
       "1779    Roddick to face Saulnier in final\\n\\nAndy Rodd...\n",
       "Name: text, Length: 532, dtype: object"
      ]
     },
     "execution_count": 136,
     "metadata": {},
     "output_type": "execute_result"
    }
   ],
   "source": [
    "inputs_test"
   ]
  },
  {
   "cell_type": "code",
   "execution_count": 137,
   "metadata": {},
   "outputs": [
    {
     "data": {
      "text/plain": [
       "394          business\n",
       "952          politics\n",
       "39           business\n",
       "462          business\n",
       "555     entertainment\n",
       "            ...      \n",
       "1638            sport\n",
       "1095         politics\n",
       "1130         politics\n",
       "1294            sport\n",
       "860     entertainment\n",
       "Name: labels, Length: 1595, dtype: object"
      ]
     },
     "execution_count": 137,
     "metadata": {},
     "output_type": "execute_result"
    }
   ],
   "source": [
    "y_train"
   ]
  },
  {
   "cell_type": "code",
   "execution_count": 138,
   "metadata": {},
   "outputs": [
    {
     "data": {
      "text/plain": [
       "282          business\n",
       "1999             tech\n",
       "1709            sport\n",
       "988          politics\n",
       "2018             tech\n",
       "            ...      \n",
       "746     entertainment\n",
       "1717            sport\n",
       "1782             tech\n",
       "123          business\n",
       "1779            sport\n",
       "Name: labels, Length: 532, dtype: object"
      ]
     },
     "execution_count": 138,
     "metadata": {},
     "output_type": "execute_result"
    }
   ],
   "source": [
    "y_test"
   ]
  },
  {
   "cell_type": "markdown",
   "metadata": {},
   "source": [
    "**Bags of Words**"
   ]
  },
  {
   "cell_type": "code",
   "execution_count": 139,
   "metadata": {},
   "outputs": [],
   "source": [
    "#apply count vectorizer\n",
    "#create count vectorizer instance\n",
    "#we will use all default values so no need to pass new arguments\n",
    "vecotorizer = CountVectorizer()"
   ]
  },
  {
   "cell_type": "code",
   "execution_count": 140,
   "metadata": {},
   "outputs": [],
   "source": [
    "#apply it on train set and test set\n",
    "x_train = vecotorizer.fit_transform(inputs_train)\n",
    "x_test = vecotorizer.transform(inputs_test)"
   ]
  },
  {
   "cell_type": "code",
   "execution_count": 141,
   "metadata": {},
   "outputs": [
    {
     "data": {
      "text/plain": [
       "<1595x26057 sparse matrix of type '<class 'numpy.int64'>'\n",
       "\twith 322388 stored elements in Compressed Sparse Row format>"
      ]
     },
     "execution_count": 141,
     "metadata": {},
     "output_type": "execute_result"
    }
   ],
   "source": [
    "#here we find our data stored at sparse matrices because most of this data is zeros means most of documents donot use most of words (scipy)\n",
    "#the size of sparse matrix is number of documents (1595) x vocabulary size (26057)\n",
    "#remeber the number of rows equals to number of documents and number of columns equals to size of vocabulary\n",
    "#the number of the elements the sparse matrix = non zero elements\n",
    "x_train"
   ]
  },
  {
   "cell_type": "code",
   "execution_count": 142,
   "metadata": {},
   "outputs": [
    {
     "data": {
      "text/plain": [
       "<532x26057 sparse matrix of type '<class 'numpy.int64'>'\n",
       "\twith 103448 stored elements in Compressed Sparse Row format>"
      ]
     },
     "execution_count": 142,
     "metadata": {},
     "output_type": "execute_result"
    }
   ],
   "source": [
    "#the size of sparse matrix is number of documents (532) x vocabulary size (26057)\n",
    "x_test"
   ]
  },
  {
   "cell_type": "code",
   "execution_count": 143,
   "metadata": {},
   "outputs": [
    {
     "data": {
      "text/plain": [
       "322388"
      ]
     },
     "execution_count": 143,
     "metadata": {},
     "output_type": "execute_result"
    }
   ],
   "source": [
    "#to access the number of the elements the sparse matrix = non zero elements (rows * columns) (we ise the != 0 condition)\n",
    "(x_train != 0).sum()"
   ]
  },
  {
   "cell_type": "code",
   "execution_count": 144,
   "metadata": {},
   "outputs": [
    {
     "data": {
      "text/plain": [
       "103448"
      ]
     },
     "execution_count": 144,
     "metadata": {},
     "output_type": "execute_result"
    }
   ],
   "source": [
    "(x_test != 0).sum()"
   ]
  },
  {
   "cell_type": "code",
   "execution_count": 145,
   "metadata": {},
   "outputs": [
    {
     "name": "stdout",
     "output_type": "stream",
     "text": [
      "Percentage of non zero :  0.7756999575201845  %\n"
     ]
    }
   ],
   "source": [
    "#percentage of values of non zero for train data ---> non zero elements / total number of elements (rows * columns) we can access it in x_train.shape and dot product them np.prod \n",
    "per_non_zero = (x_train != 0).sum() / np.prod(x_train.shape) \n",
    "print('Percentage of non zero : ',per_non_zero * 100,' %') "
   ]
  },
  {
   "cell_type": "markdown",
   "metadata": {},
   "source": [
    "**Modeling using Naivee Bayes**"
   ]
  },
  {
   "cell_type": "code",
   "execution_count": 146,
   "metadata": {},
   "outputs": [
    {
     "name": "stdout",
     "output_type": "stream",
     "text": [
      "Train score :  99.3103448275862 %\n",
      "Test score :  96.80451127819549 %\n",
      "x_train size is :    (0, 1)\t3\n",
      "  (0, 403)\t1\n",
      "  (0, 411)\t1\n",
      "  (0, 419)\t1\n",
      "  (0, 421)\t2\n",
      "  (0, 850)\t1\n",
      "  (0, 851)\t1\n",
      "  (0, 948)\t2\n",
      "  (0, 1108)\t1\n",
      "  (0, 1396)\t2\n",
      "  (0, 1506)\t2\n",
      "  (0, 1513)\t1\n",
      "  (0, 1514)\t2\n",
      "  (0, 1553)\t1\n",
      "  (0, 1556)\t1\n",
      "  (0, 1560)\t1\n",
      "  (0, 1605)\t2\n",
      "  (0, 1613)\t1\n",
      "  (0, 1728)\t1\n",
      "  (0, 1761)\t1\n",
      "  (0, 1769)\t3\n",
      "  (0, 1776)\t1\n",
      "  (0, 1986)\t3\n",
      "  (0, 2063)\t1\n",
      "  (0, 2115)\t4\n",
      "  :\t:\n",
      "  (1594, 24340)\t1\n",
      "  (1594, 24658)\t2\n",
      "  (1594, 24727)\t1\n",
      "  (1594, 24957)\t1\n",
      "  (1594, 25054)\t1\n",
      "  (1594, 25272)\t7\n",
      "  (1594, 25364)\t1\n",
      "  (1594, 25365)\t1\n",
      "  (1594, 25376)\t1\n",
      "  (1594, 25428)\t1\n",
      "  (1594, 25456)\t1\n",
      "  (1594, 25471)\t1\n",
      "  (1594, 25476)\t2\n",
      "  (1594, 25478)\t1\n",
      "  (1594, 25515)\t3\n",
      "  (1594, 25525)\t1\n",
      "  (1594, 25607)\t1\n",
      "  (1594, 25660)\t6\n",
      "  (1594, 25674)\t1\n",
      "  (1594, 25743)\t1\n",
      "  (1594, 25745)\t1\n",
      "  (1594, 25789)\t2\n",
      "  (1594, 25831)\t1\n",
      "  (1594, 25917)\t1\n",
      "  (1594, 25958)\t1\n"
     ]
    }
   ],
   "source": [
    "#first case use model and see scores without using any preprocessing (remove stop words)\n",
    "#create naive bayes object\n",
    "model = MultinomialNB()\n",
    "#train model on train data set\n",
    "model.fit(x_train,y_train)\n",
    "#measure score of the data set trained and tested assumed we have applied prediction using .predict\n",
    "print('Train score : ',model.score(x_train,y_train) * 100,'%')\n",
    "print('Test score : ',model.score(x_test,y_test) * 100,'%')\n",
    "print('x_train size is : ',x_train)"
   ]
  },
  {
   "cell_type": "code",
   "execution_count": 147,
   "metadata": {},
   "outputs": [
    {
     "name": "stdout",
     "output_type": "stream",
     "text": [
      "Train score :  99.37304075235109 %\n",
      "Test score :  97.18045112781954 %\n",
      "x_train size is :    (0, 15495)\t10\n",
      "  (0, 9468)\t1\n",
      "  (0, 948)\t2\n",
      "  (0, 3987)\t1\n",
      "  (0, 1769)\t1\n",
      "  (0, 10382)\t1\n",
      "  (0, 1762)\t3\n",
      "  (0, 17154)\t2\n",
      "  (0, 1108)\t1\n",
      "  (0, 1)\t3\n",
      "  (0, 9467)\t1\n",
      "  (0, 3989)\t1\n",
      "  (0, 12238)\t2\n",
      "  (0, 16411)\t4\n",
      "  (0, 1602)\t2\n",
      "  (0, 8394)\t2\n",
      "  (0, 16894)\t1\n",
      "  (0, 20763)\t2\n",
      "  (0, 25630)\t2\n",
      "  (0, 1754)\t1\n",
      "  (0, 3425)\t1\n",
      "  (0, 2789)\t1\n",
      "  (0, 8578)\t2\n",
      "  (0, 12016)\t1\n",
      "  (0, 22393)\t1\n",
      "  :\t:\n",
      "  (1594, 22260)\t1\n",
      "  (1594, 21501)\t1\n",
      "  (1594, 9141)\t1\n",
      "  (1594, 19257)\t1\n",
      "  (1594, 21481)\t1\n",
      "  (1594, 5124)\t1\n",
      "  (1594, 21024)\t1\n",
      "  (1594, 18760)\t3\n",
      "  (1594, 20324)\t1\n",
      "  (1594, 11463)\t1\n",
      "  (1594, 20882)\t1\n",
      "  (1594, 8971)\t1\n",
      "  (1594, 2187)\t1\n",
      "  (1594, 15448)\t1\n",
      "  (1594, 13391)\t9\n",
      "  (1594, 1459)\t1\n",
      "  (1594, 3088)\t3\n",
      "  (1594, 25245)\t1\n",
      "  (1594, 20465)\t1\n",
      "  (1594, 13823)\t1\n",
      "  (1594, 11789)\t1\n",
      "  (1594, 9870)\t1\n",
      "  (1594, 6114)\t1\n",
      "  (1594, 21533)\t1\n",
      "  (1594, 17666)\t1\n"
     ]
    }
   ],
   "source": [
    "#lets apply first varaition working with stop words removal\n",
    "#we can remove it manually or with argument of count vectorizer\n",
    "#try count verctorizer make the same steps but add argument of stop words\n",
    "#apply count vectorizer\n",
    "#create count vectorizer instance\n",
    "vecotorizer = CountVectorizer(stop_words='english')\n",
    "#apply it on train set and test set\n",
    "x_train = vecotorizer.fit_transform(inputs_train)\n",
    "x_test = vecotorizer.transform(inputs_test)\n",
    "#secong case use model and see scores with removing stop words\n",
    "#create naive bayes object\n",
    "model = MultinomialNB()\n",
    "#train model on train data set\n",
    "model.fit(x_train,y_train)\n",
    "#measure score of the data set trained and tested assumed we have applied prediction using .predict\n",
    "print('Train score : ',model.score(x_train,y_train) * 100,'%')\n",
    "print('Test score : ',model.score(x_test,y_test) * 100,'%')\n",
    "print('x_train size is : ',x_train)\n",
    "#we have noticed it accuracy score is increased after removing stopwords "
   ]
  },
  {
   "cell_type": "code",
   "execution_count": 148,
   "metadata": {},
   "outputs": [
    {
     "name": "stdout",
     "output_type": "stream",
     "text": [
      "Train score :  99.49843260188088 %\n",
      "Test score :  97.36842105263158 %\n",
      "x_train size is :    (0, 15608)\t10\n",
      "  (0, 9540)\t1\n",
      "  (0, 948)\t2\n",
      "  (0, 4029)\t1\n",
      "  (0, 24677)\t3\n",
      "  (0, 1774)\t1\n",
      "  (0, 10467)\t1\n",
      "  (0, 1767)\t3\n",
      "  (0, 17302)\t2\n",
      "  (0, 1108)\t1\n",
      "  (0, 1)\t3\n",
      "  (0, 9539)\t1\n",
      "  (0, 4031)\t1\n",
      "  (0, 12337)\t2\n",
      "  (0, 16546)\t4\n",
      "  (0, 1604)\t2\n",
      "  (0, 16624)\t1\n",
      "  (0, 8451)\t2\n",
      "  (0, 17041)\t1\n",
      "  (0, 20921)\t2\n",
      "  (0, 24174)\t1\n",
      "  (0, 25856)\t2\n",
      "  (0, 1759)\t1\n",
      "  (0, 3465)\t1\n",
      "  (0, 2814)\t1\n",
      "  :\t:\n",
      "  (1594, 22434)\t1\n",
      "  (1594, 21666)\t1\n",
      "  (1594, 9208)\t1\n",
      "  (1594, 19411)\t1\n",
      "  (1594, 21646)\t1\n",
      "  (1594, 5171)\t1\n",
      "  (1594, 21185)\t1\n",
      "  (1594, 18912)\t3\n",
      "  (1594, 20478)\t1\n",
      "  (1594, 11553)\t1\n",
      "  (1594, 21042)\t1\n",
      "  (1594, 9038)\t1\n",
      "  (1594, 2204)\t1\n",
      "  (1594, 15561)\t1\n",
      "  (1594, 13492)\t9\n",
      "  (1594, 1460)\t1\n",
      "  (1594, 3114)\t3\n",
      "  (1594, 25465)\t1\n",
      "  (1594, 20619)\t1\n",
      "  (1594, 13927)\t1\n",
      "  (1594, 11883)\t1\n",
      "  (1594, 9951)\t1\n",
      "  (1594, 6163)\t1\n",
      "  (1594, 21698)\t1\n",
      "  (1594, 17817)\t1\n"
     ]
    }
   ],
   "source": [
    "#lets apply first varaition working with stop words removal\n",
    "#we can remove it manually or with argument of count vectorizer\n",
    "#try it manually then apply count vectorizer by default we donot need any arguments because we have already done it \n",
    "#apply count vectorizer\n",
    "#tokenization with nltk or any other library then compare it with stop words\n",
    "#desired libararies\n",
    "import nltk \n",
    "#desired module\n",
    "from nltk.corpus import stopwords\n",
    "#make stop words list globally not locally inside function\n",
    "stopwords = stopwords.words('english')\n",
    "def remove_stopwords(text , is_lower_case = False) :\n",
    "  #tokenization\n",
    "  #text maybe small or capital\n",
    "  tokens=nltk.word_tokenize(text)\n",
    "  #remove any white blank for every elemnt for list of words using list comprehensive\n",
    "  tokens=[i.strip() for i in tokens]\n",
    "  if is_lower_case :\n",
    "    new_tokens = [i for i in  tokens if i not in stopwords]\n",
    "  else :\n",
    "    new_tokens = [i for i in tokens if i.lower() not in stopwords]\n",
    "  #return filtered tokens converting list to string\n",
    "  filtered_tokens=' '.join(new_tokens)\n",
    "  return filtered_tokens\n",
    "\n",
    "inputs_train = inputs_train.apply(remove_stopwords)\n",
    "inputs_test = inputs_test.apply(remove_stopwords)\n",
    "   \n",
    "#create count vectorizer instance\n",
    "vecotorizer = CountVectorizer()\n",
    "#apply it on train set and test set\n",
    "x_train = vecotorizer.fit_transform(inputs_train)\n",
    "x_test = vecotorizer.transform(inputs_test)\n",
    "#secong case use model and see scores with removing stop words\n",
    "#create naive bayes object\n",
    "model = MultinomialNB()\n",
    "#train model on train data set\n",
    "model.fit(x_train,y_train)\n",
    "#measure score of the data set trained and tested assumed we have applied prediction using .predict\n",
    "print('Train score : ',model.score(x_train,y_train) * 100,'%')\n",
    "print('Test score : ',model.score(x_test,y_test) * 100,'%')\n",
    "print('x_train size is : ',x_train)\n",
    "#we have noticed it accuracy score is increased after removing stopwords "
   ]
  },
  {
   "cell_type": "code",
   "execution_count": 149,
   "metadata": {},
   "outputs": [
    {
     "name": "stdout",
     "output_type": "stream",
     "text": [
      "Lemmatize after nltk pos : \n",
      "\n",
      "Train score :  99.37304075235109 %\n",
      "Test score :  97.36842105263158 %\n",
      "x_train size is :    (0, 13522)\t10\n",
      "  (0, 8151)\t1\n",
      "  (0, 939)\t2\n",
      "  (0, 3615)\t1\n",
      "  (0, 21022)\t3\n",
      "  (0, 1667)\t1\n",
      "  (0, 8954)\t1\n",
      "  (0, 1659)\t3\n",
      "  (0, 14998)\t4\n",
      "  (0, 1098)\t1\n",
      "  (0, 1)\t3\n",
      "  (0, 8171)\t1\n",
      "  (0, 3617)\t1\n",
      "  (0, 10602)\t2\n",
      "  (0, 14352)\t6\n",
      "  (0, 1524)\t2\n",
      "  (0, 14425)\t1\n",
      "  (0, 7281)\t2\n",
      "  (0, 14772)\t1\n",
      "  (0, 17902)\t2\n",
      "  (0, 20553)\t1\n",
      "  (0, 22053)\t2\n",
      "  (0, 1653)\t1\n",
      "  (0, 3124)\t1\n",
      "  (0, 2558)\t1\n",
      "  :\t:\n",
      "  (1594, 12770)\t1\n",
      "  (1594, 19282)\t1\n",
      "  (1594, 1417)\t1\n",
      "  (1594, 5484)\t1\n",
      "  (1594, 18517)\t1\n",
      "  (1594, 7885)\t1\n",
      "  (1594, 16679)\t1\n",
      "  (1594, 18502)\t1\n",
      "  (1594, 18126)\t1\n",
      "  (1594, 16291)\t3\n",
      "  (1594, 17539)\t1\n",
      "  (1594, 16167)\t1\n",
      "  (1594, 18000)\t1\n",
      "  (1594, 7750)\t1\n",
      "  (1594, 2046)\t1\n",
      "  (1594, 15449)\t1\n",
      "  (1594, 13478)\t1\n",
      "  (1594, 11635)\t9\n",
      "  (1594, 2822)\t3\n",
      "  (1594, 21706)\t1\n",
      "  (1594, 17660)\t1\n",
      "  (1594, 12020)\t1\n",
      "  (1594, 8501)\t1\n",
      "  (1594, 5388)\t1\n",
      "  (1594, 18542)\t1\n"
     ]
    }
   ],
   "source": [
    "#lets apply second varaition  working after lemmatization \n",
    "#to figure out POS tagging then converting it to wordnet pos tagging we can use nltk \n",
    "#remeber wordnet POS is different from nltk pos so we need to figure out nltk pos first and then decode it to wordnet to apply lemmatization properly\n",
    "#desired library\n",
    "#import lemmatization class from ntlk\n",
    "from nltk.stem import WordNetLemmatizer\n",
    "#don't forget to import wordnet module\n",
    "from nltk.corpus import wordnet\n",
    "#create lemmatizer object (instance)\n",
    "lemm = WordNetLemmatizer()\n",
    "#desired libararies\n",
    "import nltk \n",
    "#desired module\n",
    "from nltk.corpus import stopwords\n",
    "#make stop words list globally not locally inside function\n",
    "stopwords = stopwords.words('english')\n",
    "\n",
    "def nltk_lemm(text,is_lower_case = False):\n",
    "  \n",
    "    #tokenization using nltk\n",
    "    tokens=nltk.word_tokenize(text)\n",
    "    #apply stop words removal\n",
    "    #remove any white blank for every elemnt for list of words using list comprehensive\n",
    "    tokens=[i.strip() for i in tokens]\n",
    "    #text maybe small or capital\n",
    "    if is_lower_case :\n",
    "      new_tokens = [i for i in  tokens if i not in stopwords]\n",
    "    else :\n",
    "      new_tokens = [i for i in tokens if i.lower() not in stopwords]\n",
    "    pos_tags=[]\n",
    "    for token in new_tokens :\n",
    "        #nltk pos tags input must be list or string\n",
    "        pos_tags.append((nltk.pos_tag([token])[0][0],nltk.pos_tag([token])[0][1]))\n",
    "        \n",
    "    #second apply mapping function\n",
    "    pos_map = {\n",
    "        'NN': wordnet.NOUN,\n",
    "        'VB': wordnet.VERB,\n",
    "        'JJ': wordnet.ADJ,\n",
    "        'RB': wordnet.ADV,\n",
    "        'DT': wordnet.NOUN\n",
    "    }\n",
    "    \n",
    "    def convert_pos_tag(pos_tag):\n",
    "      #we decode depends on the first two letters\n",
    "      #we use .get because it is dictionary\n",
    "      #wordnet.NOUN is just exception case we donot find any case\n",
    "      return pos_map.get(pos_tag[:2],wordnet.NOUN)\n",
    "    \n",
    "    nltk_lemma=[]\n",
    "    for tup in pos_tags :\n",
    "      nltk_lemma.append(lemm.lemmatize(f'{tup[0]}',pos=convert_pos_tag(tup[1])))\n",
    "    #return filtered tokens converting list to string\n",
    "    filtered_tokens=' '.join(nltk_lemma)\n",
    "    return filtered_tokens\n",
    "\n",
    "\n",
    "  \n",
    "#loop and get the pos decoding\n",
    "#in ntlk pos\n",
    "print('Lemmatize after nltk pos : ')\n",
    "print()\n",
    "inputs_train = inputs_train.apply(nltk_lemm)\n",
    "inputs_test = inputs_test.apply(nltk_lemm)\n",
    "   \n",
    "#create count vectorizer instance\n",
    "vecotorizer = CountVectorizer()\n",
    "#apply it on train set and test set\n",
    "x_train = vecotorizer.fit_transform(inputs_train)\n",
    "x_test = vecotorizer.transform(inputs_test)\n",
    "#secong case use model and see scores with removing stop words\n",
    "#create naive bayes object\n",
    "model = MultinomialNB()\n",
    "#train model on train data set\n",
    "model.fit(x_train,y_train)\n",
    "#measure score of the data set trained and tested assumed we have applied prediction using .predict\n",
    "print('Train score : ',model.score(x_train,y_train) * 100,'%')\n",
    "print('Test score : ',model.score(x_test,y_test) * 100,'%')\n",
    "print('x_train size is : ',x_train)\n"
   ]
  },
  {
   "cell_type": "code",
   "execution_count": 150,
   "metadata": {},
   "outputs": [
    {
     "name": "stdout",
     "output_type": "stream",
     "text": [
      "Lemmatize after textblob pos : \n",
      "\n",
      "Train score :  99.37304075235109 %\n",
      "Test score :  97.36842105263158 %\n",
      "x_train size is :    (0, 13508)\t10\n",
      "  (0, 8141)\t1\n",
      "  (0, 939)\t2\n",
      "  (0, 3614)\t1\n",
      "  (0, 20998)\t3\n",
      "  (0, 1667)\t1\n",
      "  (0, 8942)\t1\n",
      "  (0, 1659)\t3\n",
      "  (0, 14982)\t4\n",
      "  (0, 1098)\t1\n",
      "  (0, 1)\t3\n",
      "  (0, 8161)\t1\n",
      "  (0, 3616)\t1\n",
      "  (0, 10588)\t2\n",
      "  (0, 14336)\t6\n",
      "  (0, 1524)\t2\n",
      "  (0, 14409)\t1\n",
      "  (0, 7272)\t2\n",
      "  (0, 14756)\t1\n",
      "  (0, 17883)\t2\n",
      "  (0, 20529)\t1\n",
      "  (0, 22027)\t2\n",
      "  (0, 1653)\t1\n",
      "  (0, 3123)\t1\n",
      "  (0, 2557)\t1\n",
      "  :\t:\n",
      "  (1594, 12756)\t1\n",
      "  (1594, 19260)\t1\n",
      "  (1594, 1417)\t1\n",
      "  (1594, 5480)\t1\n",
      "  (1594, 18496)\t1\n",
      "  (1594, 7875)\t1\n",
      "  (1594, 16659)\t1\n",
      "  (1594, 18481)\t1\n",
      "  (1594, 18106)\t1\n",
      "  (1594, 16271)\t3\n",
      "  (1594, 17519)\t1\n",
      "  (1594, 16147)\t1\n",
      "  (1594, 17980)\t1\n",
      "  (1594, 7741)\t1\n",
      "  (1594, 2046)\t1\n",
      "  (1594, 15432)\t1\n",
      "  (1594, 13464)\t1\n",
      "  (1594, 11621)\t9\n",
      "  (1594, 2821)\t3\n",
      "  (1594, 21682)\t1\n",
      "  (1594, 17640)\t1\n",
      "  (1594, 12006)\t1\n",
      "  (1594, 8490)\t1\n",
      "  (1594, 5385)\t1\n",
      "  (1594, 18521)\t1\n"
     ]
    }
   ],
   "source": [
    "#lets apply second varaition  working after lemmatization \n",
    "#to figure out POS tagging then converting it to wordnet pos tagging we can use nltk \n",
    "#remeber wordnet POS is different from text blob pos so we need to figure out textblob pos first and then decode it to wordnet to apply lemmatization properly\n",
    "#desired library\n",
    "#import lemmatization class from ntlk\n",
    "from nltk.stem import WordNetLemmatizer\n",
    "#don't forget to import wordnet module\n",
    "from nltk.corpus import wordnet\n",
    "#create lemmatizer object (instance)\n",
    "lemm = WordNetLemmatizer()\n",
    "#desired libararies\n",
    "import nltk \n",
    "from textblob import TextBlob\n",
    "#desired module\n",
    "from nltk.corpus import stopwords\n",
    "#make stop words list globally not locally inside function\n",
    "stopwords = stopwords.words('english')\n",
    "\n",
    "def textblob_lemm(text,is_lower_case = False):\n",
    "  \n",
    "    #tokenization using textblob\n",
    "    #create textblob object\n",
    "    blob=TextBlob(text)\n",
    "    #remeber tokens work with order and the difference between nltk and the other library only the consideration of the punctuation\n",
    "    #extract word tokens\n",
    "    tokens=blob.words    \n",
    "    #apply stop words removal\n",
    "    #remove any white blank for every elemnt for list of words using list comprehensive\n",
    "    tokens=[i.strip() for i in tokens]\n",
    "    #text maybe small or capital\n",
    "    if is_lower_case :\n",
    "      new_tokens = [i for i in  tokens if i not in stopwords]\n",
    "    else :\n",
    "      new_tokens = [i for i in tokens if i.lower() not in stopwords]\n",
    "    pos_tags=[]\n",
    "    for token in new_tokens :\n",
    "        #nltk pos tags input must be list or string\n",
    "        pos_tags.append((TextBlob(token).tags[0][0],TextBlob(token).tags[0][1]))\n",
    "        \n",
    "    #second apply mapping function\n",
    "    pos_map = {\n",
    "        'NN': wordnet.NOUN,\n",
    "        'VB': wordnet.VERB,\n",
    "        'JJ': wordnet.ADJ,\n",
    "        'RB': wordnet.ADV,\n",
    "        'DT': wordnet.NOUN\n",
    "    }\n",
    "    \n",
    "    def convert_pos_tag(pos_tag):\n",
    "      #we decode depends on the first two letters\n",
    "      #we use .get because it is dictionary\n",
    "      #wordnet.NOUN is just exception case we donot find any case\n",
    "      return pos_map.get(pos_tag[:2],wordnet.NOUN)\n",
    "    \n",
    "    blob_lemma=[]\n",
    "    for tup in pos_tags :\n",
    "      blob_lemma.append(lemm.lemmatize(f'{tup[0]}',pos=convert_pos_tag(tup[1])))\n",
    "    #return filtered tokens converting list to string\n",
    "    filtered_tokens=' '.join(blob_lemma)\n",
    "    return filtered_tokens\n",
    "\n",
    "\n",
    "  \n",
    "#loop and get the pos decoding\n",
    "#in textblob pos\n",
    "print('Lemmatize after textblob pos : ')\n",
    "print()\n",
    "inputs_train = inputs_train.apply(textblob_lemm)\n",
    "inputs_test = inputs_test.apply(textblob_lemm)\n",
    "   \n",
    "#create count vectorizer instance\n",
    "vecotorizer = CountVectorizer()\n",
    "#apply it on train set and test set\n",
    "x_train = vecotorizer.fit_transform(inputs_train)\n",
    "x_test = vecotorizer.transform(inputs_test)\n",
    "#secong case use model and see scores with removing stop words\n",
    "#create naive bayes object\n",
    "model = MultinomialNB()\n",
    "#train model on train data set\n",
    "model.fit(x_train,y_train)\n",
    "#measure score of the data set trained and tested assumed we have applied prediction using .predict\n",
    "print('Train score : ',model.score(x_train,y_train) * 100,'%')\n",
    "print('Test score : ',model.score(x_test,y_test) * 100,'%')\n",
    "print('x_train size is : ',x_train)\n"
   ]
  },
  {
   "cell_type": "code",
   "execution_count": 151,
   "metadata": {},
   "outputs": [
    {
     "name": "stderr",
     "output_type": "stream",
     "text": [
      "c:\\Users\\hp\\anaconda3\\Lib\\site-packages\\sklearn\\feature_extraction\\text.py:525: UserWarning: The parameter 'token_pattern' will not be used since 'tokenizer' is not None'\n",
      "  warnings.warn(\n"
     ]
    },
    {
     "name": "stdout",
     "output_type": "stream",
     "text": [
      "Train score :  99.37304075235109 %\n",
      "Test score :  96.61654135338345 %\n",
      "x_train size is :    (0, 14928)\t10\n",
      "  (0, 9404)\t1\n",
      "  (0, 480)\t2\n",
      "  (0, 4932)\t1\n",
      "  (0, 22263)\t3\n",
      "  (0, 2934)\t1\n",
      "  (0, 10261)\t1\n",
      "  (0, 2927)\t3\n",
      "  (0, 16597)\t5\n",
      "  (0, 24493)\t1\n",
      "  (0, 9421)\t1\n",
      "  (0, 4931)\t7\n",
      "  (0, 11938)\t2\n",
      "  (0, 15901)\t6\n",
      "  (0, 2800)\t2\n",
      "  (0, 15983)\t1\n",
      "  (0, 8510)\t2\n",
      "  (0, 19552)\t2\n",
      "  (0, 22219)\t1\n",
      "  (0, 23794)\t2\n",
      "  (0, 2921)\t1\n",
      "  (0, 4453)\t1\n",
      "  (0, 3880)\t1\n",
      "  (0, 8652)\t2\n",
      "  (0, 11745)\t1\n",
      "  :\t:\n",
      "  (1594, 2891)\t1\n",
      "  (1594, 6777)\t1\n",
      "  (1594, 14140)\t1\n",
      "  (1594, 20935)\t1\n",
      "  (1594, 2699)\t1\n",
      "  (1594, 6757)\t1\n",
      "  (1594, 18333)\t1\n",
      "  (1594, 9137)\t1\n",
      "  (1594, 20174)\t1\n",
      "  (1594, 19774)\t1\n",
      "  (1594, 17920)\t3\n",
      "  (1594, 19149)\t1\n",
      "  (1594, 19655)\t1\n",
      "  (1594, 9004)\t1\n",
      "  (1594, 3325)\t1\n",
      "  (1594, 17040)\t1\n",
      "  (1594, 14885)\t1\n",
      "  (1594, 6)\t1\n",
      "  (1594, 12960)\t9\n",
      "  (1594, 4151)\t3\n",
      "  (1594, 23446)\t1\n",
      "  (1594, 19269)\t1\n",
      "  (1594, 13350)\t1\n",
      "  (1594, 9790)\t1\n",
      "  (1594, 20213)\t1\n"
     ]
    }
   ],
   "source": [
    "#lets apply third varaition  working after lemmatization connected to count vecotrizer by calling object of the class in the argument of tokenizer and the return of the class must be list with nltk lemmatizer tokens only without removing stop words\n",
    "#create lemmatization class\n",
    "#decoding map\n",
    "pos_map = {\n",
    "        'NN': wordnet.NOUN,\n",
    "        'VB': wordnet.VERB,\n",
    "        'JJ': wordnet.ADJ,\n",
    "        'RB': wordnet.ADV,\n",
    "        'DT': wordnet.NOUN\n",
    "    }\n",
    "\n",
    "#we can use regular function or class\n",
    "class lemmatizer():\n",
    "    #initalization function , this function will work automatically when calling the class (the instance)\n",
    "    def __init__(self):\n",
    "        #self for protection purposes\n",
    "        self.wnl=WordNetLemmatizer()\n",
    "    #call function so when we call the class this function work  (the whole work)  \n",
    "    #doc is document\n",
    "    def __call__(self, doc) :\n",
    "        #we donot have to type nltk.\n",
    "        #tokenization\n",
    "        tokens = word_tokenize(doc)\n",
    "        #pos and lemmatization\n",
    "        tags = nltk.pos_tag(tokens)\n",
    "        return [self.wnl.lemmatize(word,pos=pos_map.get(pos_tag[:2],wordnet.NOUN)) for word , pos_tag in tags]\n",
    "    \n",
    "#create count vectorizer instance\n",
    "vecotorizer = CountVectorizer(tokenizer=lemmatizer())\n",
    "#apply it on train set and test set\n",
    "x_train = vecotorizer.fit_transform(inputs_train)\n",
    "x_test = vecotorizer.transform(inputs_test)\n",
    "#secong case use model and see scores with removing stop words\n",
    "#create naive bayes object\n",
    "model = MultinomialNB()\n",
    "#train model on train data set\n",
    "model.fit(x_train,y_train)\n",
    "#measure score of the data set trained and tested assumed we have applied prediction using .predict\n",
    "print('Train score : ',model.score(x_train,y_train) * 100,'%')\n",
    "print('Test score : ',model.score(x_test,y_test) * 100,'%')   \n",
    "print('x_train size is : ',x_train)\n",
    "#the time takes for doing operation is not related with scores "
   ]
  },
  {
   "cell_type": "code",
   "execution_count": 152,
   "metadata": {},
   "outputs": [
    {
     "name": "stderr",
     "output_type": "stream",
     "text": [
      "c:\\Users\\hp\\anaconda3\\Lib\\site-packages\\sklearn\\feature_extraction\\text.py:525: UserWarning: The parameter 'token_pattern' will not be used since 'tokenizer' is not None'\n",
      "  warnings.warn(\n"
     ]
    },
    {
     "name": "stdout",
     "output_type": "stream",
     "text": [
      "Train score :  99.24764890282131 %\n",
      "Test score :  96.42857142857143 %\n",
      "x_train size is :    (0, 13321)\t10\n",
      "  (0, 8360)\t1\n",
      "  (0, 466)\t2\n",
      "  (0, 4584)\t1\n",
      "  (0, 20234)\t3\n",
      "  (0, 2807)\t1\n",
      "  (0, 9128)\t1\n",
      "  (0, 2802)\t3\n",
      "  (0, 14834)\t4\n",
      "  (0, 21904)\t1\n",
      "  (0, 8370)\t1\n",
      "  (0, 4583)\t7\n",
      "  (0, 10648)\t2\n",
      "  (0, 14196)\t6\n",
      "  (0, 2697)\t2\n",
      "  (0, 14274)\t1\n",
      "  (0, 7621)\t2\n",
      "  (0, 14629)\t1\n",
      "  (0, 17345)\t2\n",
      "  (0, 19777)\t1\n",
      "  (0, 21211)\t2\n",
      "  (0, 2796)\t1\n",
      "  (0, 4145)\t1\n",
      "  (0, 3619)\t1\n",
      "  (0, 7725)\t2\n",
      "  :\t:\n",
      "  (1594, 4898)\t1\n",
      "  (1594, 11231)\t1\n",
      "  (1594, 12580)\t1\n",
      "  (1594, 5951)\t1\n",
      "  (1594, 18500)\t1\n",
      "  (1594, 2771)\t1\n",
      "  (1594, 6156)\t1\n",
      "  (1594, 12603)\t1\n",
      "  (1594, 6136)\t1\n",
      "  (1594, 3161)\t1\n",
      "  (1594, 6)\t1\n",
      "  (1594, 8123)\t1\n",
      "  (1594, 17920)\t1\n",
      "  (1594, 17548)\t1\n",
      "  (1594, 15946)\t3\n",
      "  (1594, 16977)\t1\n",
      "  (1594, 8015)\t1\n",
      "  (1594, 15207)\t1\n",
      "  (1594, 11518)\t9\n",
      "  (1594, 3866)\t3\n",
      "  (1594, 20881)\t1\n",
      "  (1594, 17083)\t1\n",
      "  (1594, 11881)\t1\n",
      "  (1594, 8708)\t1\n",
      "  (1594, 17955)\t1\n"
     ]
    }
   ],
   "source": [
    "#lets apply fourth varaition  working after stemming connected to count vecotrizer by calling object of the class in the argument of tokenizer and the return of the class must be list with nltk tokenization only without removing stop words\n",
    "#create stemming class\n",
    "#creating classes is more easy than function\n",
    "\n",
    "\n",
    "#we can use regular function or class\n",
    "class stemmer():\n",
    "    #initalization function , this function will work automatically when calling the class (the instance)\n",
    "    def __init__(self):\n",
    "        #self for protection purposes\n",
    "        self.stm=PorterStemmer()\n",
    "    #call function so when we call the class this function work  (the whole work)  \n",
    "    #doc is document\n",
    "    def __call__(self, doc) :\n",
    "        #we donot have to type nltk.\n",
    "        #tokenization\n",
    "        tokens = word_tokenize(doc)\n",
    "        #stemming\n",
    "        return [self.stm.stem(token) for token in tokens]\n",
    "    \n",
    "#create count vectorizer instance\n",
    "vecotorizer = CountVectorizer(tokenizer=stemmer())\n",
    "#apply it on train set and test set\n",
    "x_train = vecotorizer.fit_transform(inputs_train)\n",
    "x_test = vecotorizer.transform(inputs_test)\n",
    "#secong case use model and see scores with removing stop words\n",
    "#create naive bayes object\n",
    "model = MultinomialNB()\n",
    "#train model on train data set\n",
    "model.fit(x_train,y_train)\n",
    "#measure score of the data set trained and tested assumed we have applied prediction using .predict\n",
    "print('Train score : ',model.score(x_train,y_train) * 100,'%')\n",
    "print('Test score : ',model.score(x_test,y_test) * 100,'%')   \n",
    "print('x_train size is : ',x_train)\n",
    "#the time takes for doing operation is not related with scores \n",
    "#as we see stemming is faster but less accurate"
   ]
  },
  {
   "cell_type": "code",
   "execution_count": 153,
   "metadata": {},
   "outputs": [
    {
     "name": "stderr",
     "output_type": "stream",
     "text": [
      "c:\\Users\\hp\\anaconda3\\Lib\\site-packages\\sklearn\\feature_extraction\\text.py:525: UserWarning: The parameter 'token_pattern' will not be used since 'tokenizer' is not None'\n",
      "  warnings.warn(\n"
     ]
    },
    {
     "name": "stdout",
     "output_type": "stream",
     "text": [
      "Train score :  99.37304075235109 %\n",
      "Test score :  96.80451127819549 %\n",
      "x_train size is :    (0, 15644)\t10\n",
      "  (0, 9855)\t1\n",
      "  (0, 480)\t2\n",
      "  (0, 5069)\t1\n",
      "  (0, 23949)\t3\n",
      "  (0, 2959)\t1\n",
      "  (0, 10754)\t1\n",
      "  (0, 2951)\t3\n",
      "  (0, 17382)\t4\n",
      "  (0, 25765)\t1\n",
      "  (0, 9873)\t1\n",
      "  (0, 5070)\t1\n",
      "  (0, 12527)\t2\n",
      "  (0, 16649)\t6\n",
      "  (0, 2815)\t2\n",
      "  (0, 16734)\t1\n",
      "  (0, 8905)\t2\n",
      "  (0, 17148)\t1\n",
      "  (0, 20555)\t2\n",
      "  (0, 23419)\t1\n",
      "  (0, 25062)\t2\n",
      "  (0, 2945)\t1\n",
      "  (0, 4558)\t1\n",
      "  (0, 3959)\t1\n",
      "  (0, 9055)\t2\n",
      "  :\t:\n",
      "  (1594, 22047)\t1\n",
      "  (1594, 2705)\t1\n",
      "  (1594, 7048)\t1\n",
      "  (1594, 21239)\t1\n",
      "  (1594, 9571)\t1\n",
      "  (1594, 19245)\t1\n",
      "  (1594, 21223)\t1\n",
      "  (1594, 20791)\t1\n",
      "  (1594, 18796)\t3\n",
      "  (1594, 20129)\t1\n",
      "  (1594, 18666)\t1\n",
      "  (1594, 20664)\t1\n",
      "  (1594, 9425)\t1\n",
      "  (1594, 3368)\t1\n",
      "  (1594, 17856)\t1\n",
      "  (1594, 15598)\t1\n",
      "  (1594, 6)\t1\n",
      "  (1594, 13593)\t9\n",
      "  (1594, 4243)\t3\n",
      "  (1594, 24691)\t1\n",
      "  (1594, 20253)\t1\n",
      "  (1594, 14003)\t1\n",
      "  (1594, 10264)\t1\n",
      "  (1594, 6943)\t1\n",
      "  (1594, 21266)\t1\n"
     ]
    }
   ],
   "source": [
    "#lets apply fifth varaition  working after  applying simple tokenization only , when we connect function to tokenizer argument in Count Vectorizer it is different than passing object of class we do it without prantheses\n",
    "#create tokenization class\n",
    "#creating classes is more easy than function\n",
    "\n",
    "\n",
    "#we can use regular function or class\n",
    "def simple_tokenizer(text):\n",
    "    return text.split()\n",
    "    \n",
    "#create count vectorizer instance\n",
    "vecotorizer = CountVectorizer(tokenizer=simple_tokenizer)\n",
    "#apply it on train set and test set\n",
    "x_train = vecotorizer.fit_transform(inputs_train)\n",
    "x_test = vecotorizer.transform(inputs_test)\n",
    "#secong case use model and see scores with removing stop words\n",
    "#create naive bayes object\n",
    "model = MultinomialNB()\n",
    "#train model on train data set\n",
    "model.fit(x_train,y_train)\n",
    "#measure score of the data set trained and tested assumed we have applied prediction using .predict\n",
    "print('Train score : ',model.score(x_train,y_train) * 100,'%')\n",
    "print('Test score : ',model.score(x_test,y_test) * 100,'%')   \n",
    "print('x_train size is : ',x_train)"
   ]
  },
  {
   "cell_type": "code",
   "execution_count": 154,
   "metadata": {},
   "outputs": [],
   "source": [
    "#after applying 8 phases the best is applying nltk tokenizer then stop words removal then nltk lemmatization , it is the best scores and the faster also but bigger size of x_train"
   ]
  }
 ],
 "metadata": {
  "kernelspec": {
   "display_name": "base",
   "language": "python",
   "name": "python3"
  },
  "language_info": {
   "codemirror_mode": {
    "name": "ipython",
    "version": 3
   },
   "file_extension": ".py",
   "mimetype": "text/x-python",
   "name": "python",
   "nbconvert_exporter": "python",
   "pygments_lexer": "ipython3",
   "version": "3.11.5"
  }
 },
 "nbformat": 4,
 "nbformat_minor": 2
}
