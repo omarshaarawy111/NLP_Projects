{
 "cells": [
  {
   "cell_type": "code",
   "execution_count": 3,
   "metadata": {},
   "outputs": [
    {
     "name": "stderr",
     "output_type": "stream",
     "text": [
      "[nltk_data] Downloading package averaged_perceptron_tagger to\n",
      "[nltk_data]     C:\\Users\\hp\\AppData\\Roaming\\nltk_data...\n",
      "[nltk_data]   Package averaged_perceptron_tagger is already up-to-\n",
      "[nltk_data]       date!\n"
     ]
    }
   ],
   "source": [
    "#validation\n",
    "import numpy as np\n",
    "import pandas as pd\n",
    "from sklearn.feature_extraction.text import CountVectorizer\n",
    "from sklearn.naive_bayes import MultinomialNB\n",
    "from sklearn.model_selection import train_test_split\n",
    "import nltk\n",
    "#wordnet module\n",
    "from nltk.corpus import wordnet\n",
    "#stop words module\n",
    "from nltk.corpus import stopwords\n",
    "#not necessary to download packages as we did it once before\n",
    "#tokenization\n",
    "from nltk import word_tokenize\n",
    "#stemming and lemmatization\n",
    "from nltk.stem import PorterStemmer,WordNetLemmatizer\n",
    "#download (POS) tagger based on the averaged perceptron algorithm package\n",
    "nltk.download('averaged_perceptron_tagger')\n",
    "import pickle"
   ]
  },
  {
   "cell_type": "code",
   "execution_count": 4,
   "metadata": {},
   "outputs": [
    {
     "name": "stdout",
     "output_type": "stream",
     "text": [
      "For article : \n",
      "\n",
      "football\n",
      "\n",
      "Label : \n",
      "\n",
      "sport\n"
     ]
    }
   ],
   "source": [
    "#create lemmatizer object (instance)\n",
    "lemm = WordNetLemmatizer()\n",
    "#make stop words list globally not locally inside function\n",
    "stopwords = stopwords.words('english')\n",
    "\n",
    "def nltk_lemm(text,is_lower_case = False):\n",
    "  \n",
    "    #tokenization using nltk\n",
    "    tokens=nltk.word_tokenize(text)\n",
    "    #apply stop words removal\n",
    "    #remove any white blank for every elemnt for list of words using list comprehensive\n",
    "    tokens=[i.strip() for i in tokens]\n",
    "    #text maybe small or capital\n",
    "    if is_lower_case :\n",
    "      new_tokens = [i for i in  tokens if i not in stopwords]\n",
    "    else :\n",
    "      new_tokens = [i for i in tokens if i.lower() not in stopwords]\n",
    "    pos_tags=[]\n",
    "    for token in new_tokens :\n",
    "        #nltk pos tags input must be list or string\n",
    "        pos_tags.append((nltk.pos_tag([token])[0][0],nltk.pos_tag([token])[0][1]))\n",
    "        \n",
    "    #second apply mapping function\n",
    "    pos_map = {\n",
    "        'NN': wordnet.NOUN,\n",
    "        'VB': wordnet.VERB,\n",
    "        'JJ': wordnet.ADJ,\n",
    "        'RB': wordnet.ADV,\n",
    "        'DT': wordnet.NOUN\n",
    "    }\n",
    "    \n",
    "    def convert_pos_tag(pos_tag):\n",
    "      #we decode depends on the first two letters\n",
    "      #we use .get because it is dictionary\n",
    "      #wordnet.NOUN is just exception case we donot find any case\n",
    "      return pos_map.get(pos_tag[:2],wordnet.NOUN)\n",
    "    \n",
    "    nltk_lemma=[]\n",
    "    for tup in pos_tags :\n",
    "      nltk_lemma.append(lemm.lemmatize(f'{tup[0]}',pos=convert_pos_tag(tup[1])))\n",
    "    #return filtered tokens converting list to string\n",
    "    filtered_tokens=' '.join(nltk_lemma)\n",
    "    return filtered_tokens\n",
    "#input article\n",
    "article = input('Enter article : ')\n",
    "data = pd.DataFrame([article], columns=['article'])\n",
    "inputs = data['article']\n",
    "#Preprocessing text\n",
    "inputs =inputs.apply(nltk_lemm)\n",
    "cv = pickle.load(open('../models/model_cv.pkl', 'rb'))\n",
    "validation = cv.transform(inputs)\n",
    "#use model\n",
    "#prediction\n",
    "model = pickle.load(open('../models/model_mnnb.pkl', 'rb'))\n",
    "prediction=model.predict(validation)\n",
    "print('For article : \\n')\n",
    "print(f'{inputs.iloc[0]}')\n",
    "print()\n",
    "print('Label : \\n')\n",
    "print(f'{prediction[0]}')"
   ]
  }
 ],
 "metadata": {
  "kernelspec": {
   "display_name": "base",
   "language": "python",
   "name": "python3"
  },
  "language_info": {
   "codemirror_mode": {
    "name": "ipython",
    "version": 3
   },
   "file_extension": ".py",
   "mimetype": "text/x-python",
   "name": "python",
   "nbconvert_exporter": "python",
   "pygments_lexer": "ipython3",
   "version": "3.11.5"
  }
 },
 "nbformat": 4,
 "nbformat_minor": 2
}
